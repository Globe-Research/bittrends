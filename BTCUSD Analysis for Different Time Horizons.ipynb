{
 "cells": [
  {
   "cell_type": "code",
   "execution_count": 1,
   "metadata": {},
   "outputs": [],
   "source": [
    "import pandas as pd"
   ]
  },
  {
   "cell_type": "code",
   "execution_count": 2,
   "metadata": {},
   "outputs": [
    {
     "name": "stderr",
     "output_type": "stream",
     "text": [
      "/Users/samholt/anaconda3/lib/python3.7/site-packages/backtesting/_plotting.py:44: UserWarning: Jupyter Notebook detected. Setting Bokeh output to notebook. This may not work in Jupyter clients without JavaScript support (e.g. PyCharm, Spyder IDE). Reset with `backtesting.set_bokeh_output(notebook=False)`.\n",
      "  warnings.warn('Jupyter Notebook detected. '\n"
     ]
    },
    {
     "data": {
      "text/html": [
       "\n",
       "    <div class=\"bk-root\">\n",
       "        <a href=\"https://bokeh.org\" target=\"_blank\" class=\"bk-logo bk-logo-small bk-logo-notebook\"></a>\n",
       "        <span id=\"1001\">Loading BokehJS ...</span>\n",
       "    </div>"
      ]
     },
     "metadata": {},
     "output_type": "display_data"
    },
    {
     "data": {
      "application/javascript": [
       "\n",
       "(function(root) {\n",
       "  function now() {\n",
       "    return new Date();\n",
       "  }\n",
       "\n",
       "  var force = true;\n",
       "\n",
       "  if (typeof root._bokeh_onload_callbacks === \"undefined\" || force === true) {\n",
       "    root._bokeh_onload_callbacks = [];\n",
       "    root._bokeh_is_loading = undefined;\n",
       "  }\n",
       "\n",
       "  var JS_MIME_TYPE = 'application/javascript';\n",
       "  var HTML_MIME_TYPE = 'text/html';\n",
       "  var EXEC_MIME_TYPE = 'application/vnd.bokehjs_exec.v0+json';\n",
       "  var CLASS_NAME = 'output_bokeh rendered_html';\n",
       "\n",
       "  /**\n",
       "   * Render data to the DOM node\n",
       "   */\n",
       "  function render(props, node) {\n",
       "    var script = document.createElement(\"script\");\n",
       "    node.appendChild(script);\n",
       "  }\n",
       "\n",
       "  /**\n",
       "   * Handle when an output is cleared or removed\n",
       "   */\n",
       "  function handleClearOutput(event, handle) {\n",
       "    var cell = handle.cell;\n",
       "\n",
       "    var id = cell.output_area._bokeh_element_id;\n",
       "    var server_id = cell.output_area._bokeh_server_id;\n",
       "    // Clean up Bokeh references\n",
       "    if (id != null && id in Bokeh.index) {\n",
       "      Bokeh.index[id].model.document.clear();\n",
       "      delete Bokeh.index[id];\n",
       "    }\n",
       "\n",
       "    if (server_id !== undefined) {\n",
       "      // Clean up Bokeh references\n",
       "      var cmd = \"from bokeh.io.state import curstate; print(curstate().uuid_to_server['\" + server_id + \"'].get_sessions()[0].document.roots[0]._id)\";\n",
       "      cell.notebook.kernel.execute(cmd, {\n",
       "        iopub: {\n",
       "          output: function(msg) {\n",
       "            var id = msg.content.text.trim();\n",
       "            if (id in Bokeh.index) {\n",
       "              Bokeh.index[id].model.document.clear();\n",
       "              delete Bokeh.index[id];\n",
       "            }\n",
       "          }\n",
       "        }\n",
       "      });\n",
       "      // Destroy server and session\n",
       "      var cmd = \"import bokeh.io.notebook as ion; ion.destroy_server('\" + server_id + \"')\";\n",
       "      cell.notebook.kernel.execute(cmd);\n",
       "    }\n",
       "  }\n",
       "\n",
       "  /**\n",
       "   * Handle when a new output is added\n",
       "   */\n",
       "  function handleAddOutput(event, handle) {\n",
       "    var output_area = handle.output_area;\n",
       "    var output = handle.output;\n",
       "\n",
       "    // limit handleAddOutput to display_data with EXEC_MIME_TYPE content only\n",
       "    if ((output.output_type != \"display_data\") || (!output.data.hasOwnProperty(EXEC_MIME_TYPE))) {\n",
       "      return\n",
       "    }\n",
       "\n",
       "    var toinsert = output_area.element.find(\".\" + CLASS_NAME.split(' ')[0]);\n",
       "\n",
       "    if (output.metadata[EXEC_MIME_TYPE][\"id\"] !== undefined) {\n",
       "      toinsert[toinsert.length - 1].firstChild.textContent = output.data[JS_MIME_TYPE];\n",
       "      // store reference to embed id on output_area\n",
       "      output_area._bokeh_element_id = output.metadata[EXEC_MIME_TYPE][\"id\"];\n",
       "    }\n",
       "    if (output.metadata[EXEC_MIME_TYPE][\"server_id\"] !== undefined) {\n",
       "      var bk_div = document.createElement(\"div\");\n",
       "      bk_div.innerHTML = output.data[HTML_MIME_TYPE];\n",
       "      var script_attrs = bk_div.children[0].attributes;\n",
       "      for (var i = 0; i < script_attrs.length; i++) {\n",
       "        toinsert[toinsert.length - 1].firstChild.setAttribute(script_attrs[i].name, script_attrs[i].value);\n",
       "      }\n",
       "      // store reference to server id on output_area\n",
       "      output_area._bokeh_server_id = output.metadata[EXEC_MIME_TYPE][\"server_id\"];\n",
       "    }\n",
       "  }\n",
       "\n",
       "  function register_renderer(events, OutputArea) {\n",
       "\n",
       "    function append_mime(data, metadata, element) {\n",
       "      // create a DOM node to render to\n",
       "      var toinsert = this.create_output_subarea(\n",
       "        metadata,\n",
       "        CLASS_NAME,\n",
       "        EXEC_MIME_TYPE\n",
       "      );\n",
       "      this.keyboard_manager.register_events(toinsert);\n",
       "      // Render to node\n",
       "      var props = {data: data, metadata: metadata[EXEC_MIME_TYPE]};\n",
       "      render(props, toinsert[toinsert.length - 1]);\n",
       "      element.append(toinsert);\n",
       "      return toinsert\n",
       "    }\n",
       "\n",
       "    /* Handle when an output is cleared or removed */\n",
       "    events.on('clear_output.CodeCell', handleClearOutput);\n",
       "    events.on('delete.Cell', handleClearOutput);\n",
       "\n",
       "    /* Handle when a new output is added */\n",
       "    events.on('output_added.OutputArea', handleAddOutput);\n",
       "\n",
       "    /**\n",
       "     * Register the mime type and append_mime function with output_area\n",
       "     */\n",
       "    OutputArea.prototype.register_mime_type(EXEC_MIME_TYPE, append_mime, {\n",
       "      /* Is output safe? */\n",
       "      safe: true,\n",
       "      /* Index of renderer in `output_area.display_order` */\n",
       "      index: 0\n",
       "    });\n",
       "  }\n",
       "\n",
       "  // register the mime type if in Jupyter Notebook environment and previously unregistered\n",
       "  if (root.Jupyter !== undefined) {\n",
       "    var events = require('base/js/events');\n",
       "    var OutputArea = require('notebook/js/outputarea').OutputArea;\n",
       "\n",
       "    if (OutputArea.prototype.mime_types().indexOf(EXEC_MIME_TYPE) == -1) {\n",
       "      register_renderer(events, OutputArea);\n",
       "    }\n",
       "  }\n",
       "\n",
       "  \n",
       "  if (typeof (root._bokeh_timeout) === \"undefined\" || force === true) {\n",
       "    root._bokeh_timeout = Date.now() + 5000;\n",
       "    root._bokeh_failed_load = false;\n",
       "  }\n",
       "\n",
       "  var NB_LOAD_WARNING = {'data': {'text/html':\n",
       "     \"<div style='background-color: #fdd'>\\n\"+\n",
       "     \"<p>\\n\"+\n",
       "     \"BokehJS does not appear to have successfully loaded. If loading BokehJS from CDN, this \\n\"+\n",
       "     \"may be due to a slow or bad network connection. Possible fixes:\\n\"+\n",
       "     \"</p>\\n\"+\n",
       "     \"<ul>\\n\"+\n",
       "     \"<li>re-rerun `output_notebook()` to attempt to load from CDN again, or</li>\\n\"+\n",
       "     \"<li>use INLINE resources instead, as so:</li>\\n\"+\n",
       "     \"</ul>\\n\"+\n",
       "     \"<code>\\n\"+\n",
       "     \"from bokeh.resources import INLINE\\n\"+\n",
       "     \"output_notebook(resources=INLINE)\\n\"+\n",
       "     \"</code>\\n\"+\n",
       "     \"</div>\"}};\n",
       "\n",
       "  function display_loaded() {\n",
       "    var el = document.getElementById(\"1001\");\n",
       "    if (el != null) {\n",
       "      el.textContent = \"BokehJS is loading...\";\n",
       "    }\n",
       "    if (root.Bokeh !== undefined) {\n",
       "      if (el != null) {\n",
       "        el.textContent = \"BokehJS \" + root.Bokeh.version + \" successfully loaded.\";\n",
       "      }\n",
       "    } else if (Date.now() < root._bokeh_timeout) {\n",
       "      setTimeout(display_loaded, 100)\n",
       "    }\n",
       "  }\n",
       "\n",
       "\n",
       "  function run_callbacks() {\n",
       "    try {\n",
       "      root._bokeh_onload_callbacks.forEach(function(callback) {\n",
       "        if (callback != null)\n",
       "          callback();\n",
       "      });\n",
       "    } finally {\n",
       "      delete root._bokeh_onload_callbacks\n",
       "    }\n",
       "    console.debug(\"Bokeh: all callbacks have finished\");\n",
       "  }\n",
       "\n",
       "  function load_libs(css_urls, js_urls, callback) {\n",
       "    if (css_urls == null) css_urls = [];\n",
       "    if (js_urls == null) js_urls = [];\n",
       "\n",
       "    root._bokeh_onload_callbacks.push(callback);\n",
       "    if (root._bokeh_is_loading > 0) {\n",
       "      console.debug(\"Bokeh: BokehJS is being loaded, scheduling callback at\", now());\n",
       "      return null;\n",
       "    }\n",
       "    if (js_urls == null || js_urls.length === 0) {\n",
       "      run_callbacks();\n",
       "      return null;\n",
       "    }\n",
       "    console.debug(\"Bokeh: BokehJS not loaded, scheduling load and callback at\", now());\n",
       "    root._bokeh_is_loading = css_urls.length + js_urls.length;\n",
       "\n",
       "    function on_load() {\n",
       "      root._bokeh_is_loading--;\n",
       "      if (root._bokeh_is_loading === 0) {\n",
       "        console.debug(\"Bokeh: all BokehJS libraries/stylesheets loaded\");\n",
       "        run_callbacks()\n",
       "      }\n",
       "    }\n",
       "\n",
       "    function on_error() {\n",
       "      console.error(\"failed to load \" + url);\n",
       "    }\n",
       "\n",
       "    for (var i = 0; i < css_urls.length; i++) {\n",
       "      var url = css_urls[i];\n",
       "      const element = document.createElement(\"link\");\n",
       "      element.onload = on_load;\n",
       "      element.onerror = on_error;\n",
       "      element.rel = \"stylesheet\";\n",
       "      element.type = \"text/css\";\n",
       "      element.href = url;\n",
       "      console.debug(\"Bokeh: injecting link tag for BokehJS stylesheet: \", url);\n",
       "      document.body.appendChild(element);\n",
       "    }\n",
       "\n",
       "    for (var i = 0; i < js_urls.length; i++) {\n",
       "      var url = js_urls[i];\n",
       "      var element = document.createElement('script');\n",
       "      element.onload = on_load;\n",
       "      element.onerror = on_error;\n",
       "      element.async = false;\n",
       "      element.src = url;\n",
       "      console.debug(\"Bokeh: injecting script tag for BokehJS library: \", url);\n",
       "      document.head.appendChild(element);\n",
       "    }\n",
       "  };var element = document.getElementById(\"1001\");\n",
       "  if (element == null) {\n",
       "    console.error(\"Bokeh: ERROR: autoload.js configured with elementid '1001' but no matching script tag was found. \")\n",
       "    return false;\n",
       "  }\n",
       "\n",
       "  function inject_raw_css(css) {\n",
       "    const element = document.createElement(\"style\");\n",
       "    element.appendChild(document.createTextNode(css));\n",
       "    document.body.appendChild(element);\n",
       "  }\n",
       "\n",
       "  \n",
       "  var js_urls = [\"https://cdn.pydata.org/bokeh/release/bokeh-1.4.0.min.js\", \"https://cdn.pydata.org/bokeh/release/bokeh-widgets-1.4.0.min.js\", \"https://cdn.pydata.org/bokeh/release/bokeh-tables-1.4.0.min.js\", \"https://cdn.pydata.org/bokeh/release/bokeh-gl-1.4.0.min.js\"];\n",
       "  var css_urls = [];\n",
       "  \n",
       "\n",
       "  var inline_js = [\n",
       "    function(Bokeh) {\n",
       "      Bokeh.set_log_level(\"info\");\n",
       "    },\n",
       "    function(Bokeh) {\n",
       "    \n",
       "    \n",
       "    }\n",
       "  ];\n",
       "\n",
       "  function run_inline_js() {\n",
       "    \n",
       "    if (root.Bokeh !== undefined || force === true) {\n",
       "      \n",
       "    for (var i = 0; i < inline_js.length; i++) {\n",
       "      inline_js[i].call(root, root.Bokeh);\n",
       "    }\n",
       "    if (force === true) {\n",
       "        display_loaded();\n",
       "      }} else if (Date.now() < root._bokeh_timeout) {\n",
       "      setTimeout(run_inline_js, 100);\n",
       "    } else if (!root._bokeh_failed_load) {\n",
       "      console.log(\"Bokeh: BokehJS failed to load within specified timeout.\");\n",
       "      root._bokeh_failed_load = true;\n",
       "    } else if (force !== true) {\n",
       "      var cell = $(document.getElementById(\"1001\")).parents('.cell').data().cell;\n",
       "      cell.output_area.append_execute_result(NB_LOAD_WARNING)\n",
       "    }\n",
       "\n",
       "  }\n",
       "\n",
       "  if (root._bokeh_is_loading === 0) {\n",
       "    console.debug(\"Bokeh: BokehJS loaded, going straight to plotting\");\n",
       "    run_inline_js();\n",
       "  } else {\n",
       "    load_libs(css_urls, js_urls, function() {\n",
       "      console.debug(\"Bokeh: BokehJS plotting callback run at\", now());\n",
       "      run_inline_js();\n",
       "    });\n",
       "  }\n",
       "}(window));"
      ],
      "application/vnd.bokehjs_load.v0+json": "\n(function(root) {\n  function now() {\n    return new Date();\n  }\n\n  var force = true;\n\n  if (typeof root._bokeh_onload_callbacks === \"undefined\" || force === true) {\n    root._bokeh_onload_callbacks = [];\n    root._bokeh_is_loading = undefined;\n  }\n\n  \n\n  \n  if (typeof (root._bokeh_timeout) === \"undefined\" || force === true) {\n    root._bokeh_timeout = Date.now() + 5000;\n    root._bokeh_failed_load = false;\n  }\n\n  var NB_LOAD_WARNING = {'data': {'text/html':\n     \"<div style='background-color: #fdd'>\\n\"+\n     \"<p>\\n\"+\n     \"BokehJS does not appear to have successfully loaded. If loading BokehJS from CDN, this \\n\"+\n     \"may be due to a slow or bad network connection. Possible fixes:\\n\"+\n     \"</p>\\n\"+\n     \"<ul>\\n\"+\n     \"<li>re-rerun `output_notebook()` to attempt to load from CDN again, or</li>\\n\"+\n     \"<li>use INLINE resources instead, as so:</li>\\n\"+\n     \"</ul>\\n\"+\n     \"<code>\\n\"+\n     \"from bokeh.resources import INLINE\\n\"+\n     \"output_notebook(resources=INLINE)\\n\"+\n     \"</code>\\n\"+\n     \"</div>\"}};\n\n  function display_loaded() {\n    var el = document.getElementById(\"1001\");\n    if (el != null) {\n      el.textContent = \"BokehJS is loading...\";\n    }\n    if (root.Bokeh !== undefined) {\n      if (el != null) {\n        el.textContent = \"BokehJS \" + root.Bokeh.version + \" successfully loaded.\";\n      }\n    } else if (Date.now() < root._bokeh_timeout) {\n      setTimeout(display_loaded, 100)\n    }\n  }\n\n\n  function run_callbacks() {\n    try {\n      root._bokeh_onload_callbacks.forEach(function(callback) {\n        if (callback != null)\n          callback();\n      });\n    } finally {\n      delete root._bokeh_onload_callbacks\n    }\n    console.debug(\"Bokeh: all callbacks have finished\");\n  }\n\n  function load_libs(css_urls, js_urls, callback) {\n    if (css_urls == null) css_urls = [];\n    if (js_urls == null) js_urls = [];\n\n    root._bokeh_onload_callbacks.push(callback);\n    if (root._bokeh_is_loading > 0) {\n      console.debug(\"Bokeh: BokehJS is being loaded, scheduling callback at\", now());\n      return null;\n    }\n    if (js_urls == null || js_urls.length === 0) {\n      run_callbacks();\n      return null;\n    }\n    console.debug(\"Bokeh: BokehJS not loaded, scheduling load and callback at\", now());\n    root._bokeh_is_loading = css_urls.length + js_urls.length;\n\n    function on_load() {\n      root._bokeh_is_loading--;\n      if (root._bokeh_is_loading === 0) {\n        console.debug(\"Bokeh: all BokehJS libraries/stylesheets loaded\");\n        run_callbacks()\n      }\n    }\n\n    function on_error() {\n      console.error(\"failed to load \" + url);\n    }\n\n    for (var i = 0; i < css_urls.length; i++) {\n      var url = css_urls[i];\n      const element = document.createElement(\"link\");\n      element.onload = on_load;\n      element.onerror = on_error;\n      element.rel = \"stylesheet\";\n      element.type = \"text/css\";\n      element.href = url;\n      console.debug(\"Bokeh: injecting link tag for BokehJS stylesheet: \", url);\n      document.body.appendChild(element);\n    }\n\n    for (var i = 0; i < js_urls.length; i++) {\n      var url = js_urls[i];\n      var element = document.createElement('script');\n      element.onload = on_load;\n      element.onerror = on_error;\n      element.async = false;\n      element.src = url;\n      console.debug(\"Bokeh: injecting script tag for BokehJS library: \", url);\n      document.head.appendChild(element);\n    }\n  };var element = document.getElementById(\"1001\");\n  if (element == null) {\n    console.error(\"Bokeh: ERROR: autoload.js configured with elementid '1001' but no matching script tag was found. \")\n    return false;\n  }\n\n  function inject_raw_css(css) {\n    const element = document.createElement(\"style\");\n    element.appendChild(document.createTextNode(css));\n    document.body.appendChild(element);\n  }\n\n  \n  var js_urls = [\"https://cdn.pydata.org/bokeh/release/bokeh-1.4.0.min.js\", \"https://cdn.pydata.org/bokeh/release/bokeh-widgets-1.4.0.min.js\", \"https://cdn.pydata.org/bokeh/release/bokeh-tables-1.4.0.min.js\", \"https://cdn.pydata.org/bokeh/release/bokeh-gl-1.4.0.min.js\"];\n  var css_urls = [];\n  \n\n  var inline_js = [\n    function(Bokeh) {\n      Bokeh.set_log_level(\"info\");\n    },\n    function(Bokeh) {\n    \n    \n    }\n  ];\n\n  function run_inline_js() {\n    \n    if (root.Bokeh !== undefined || force === true) {\n      \n    for (var i = 0; i < inline_js.length; i++) {\n      inline_js[i].call(root, root.Bokeh);\n    }\n    if (force === true) {\n        display_loaded();\n      }} else if (Date.now() < root._bokeh_timeout) {\n      setTimeout(run_inline_js, 100);\n    } else if (!root._bokeh_failed_load) {\n      console.log(\"Bokeh: BokehJS failed to load within specified timeout.\");\n      root._bokeh_failed_load = true;\n    } else if (force !== true) {\n      var cell = $(document.getElementById(\"1001\")).parents('.cell').data().cell;\n      cell.output_area.append_execute_result(NB_LOAD_WARNING)\n    }\n\n  }\n\n  if (root._bokeh_is_loading === 0) {\n    console.debug(\"Bokeh: BokehJS loaded, going straight to plotting\");\n    run_inline_js();\n  } else {\n    load_libs(css_urls, js_urls, function() {\n      console.debug(\"Bokeh: BokehJS plotting callback run at\", now());\n      run_inline_js();\n    });\n  }\n}(window));"
     },
     "metadata": {},
     "output_type": "display_data"
    }
   ],
   "source": [
    "from backtesting import Strategy\n",
    "from backtesting.lib import crossover"
   ]
  },
  {
   "cell_type": "code",
   "execution_count": 3,
   "metadata": {},
   "outputs": [],
   "source": [
    "from backtesting import Backtest"
   ]
  },
  {
   "cell_type": "code",
   "execution_count": 4,
   "metadata": {},
   "outputs": [],
   "source": [
    "%matplotlib inline\n",
    "import seaborn as sns\n",
    "from Price_Data import hist_data"
   ]
  },
  {
   "cell_type": "code",
   "execution_count": 5,
   "metadata": {},
   "outputs": [],
   "source": [
    "import matplotlib.pyplot as plt"
   ]
  },
  {
   "cell_type": "code",
   "execution_count": 6,
   "metadata": {},
   "outputs": [
    {
     "name": "stderr",
     "output_type": "stream",
     "text": [
      "/Users/samholt/anaconda3/lib/python3.7/site-packages/pandas/core/generic.py:5208: SettingWithCopyWarning: \n",
      "A value is trying to be set on a copy of a slice from a DataFrame.\n",
      "Try using .loc[row_indexer,col_indexer] = value instead\n",
      "\n",
      "See the caveats in the documentation: http://pandas.pydata.org/pandas-docs/stable/user_guide/indexing.html#returning-a-view-versus-a-copy\n",
      "  self[name] = value\n"
     ]
    }
   ],
   "source": [
    "btcusd = hist_data('Bitstamp')"
   ]
  },
  {
   "cell_type": "code",
   "execution_count": 7,
   "metadata": {},
   "outputs": [],
   "source": [
    "btcusd.columns = ['Open']"
   ]
  },
  {
   "cell_type": "code",
   "execution_count": 8,
   "metadata": {},
   "outputs": [],
   "source": [
    "ss = btcusd.resample('H')"
   ]
  },
  {
   "cell_type": "code",
   "execution_count": 9,
   "metadata": {},
   "outputs": [],
   "source": [
    "op = ss.first().ffill()\n",
    "hi = ss.max().ffill()\n",
    "lo = ss.min().ffill()\n",
    "cl = ss.last().ffill()"
   ]
  },
  {
   "cell_type": "code",
   "execution_count": 10,
   "metadata": {},
   "outputs": [
    {
     "data": {
      "text/html": [
       "<div>\n",
       "<style scoped>\n",
       "    .dataframe tbody tr th:only-of-type {\n",
       "        vertical-align: middle;\n",
       "    }\n",
       "\n",
       "    .dataframe tbody tr th {\n",
       "        vertical-align: top;\n",
       "    }\n",
       "\n",
       "    .dataframe thead th {\n",
       "        text-align: right;\n",
       "    }\n",
       "</style>\n",
       "<table border=\"1\" class=\"dataframe\">\n",
       "  <thead>\n",
       "    <tr style=\"text-align: right;\">\n",
       "      <th></th>\n",
       "      <th>Open</th>\n",
       "    </tr>\n",
       "    <tr>\n",
       "      <th>Date</th>\n",
       "      <th></th>\n",
       "    </tr>\n",
       "  </thead>\n",
       "  <tbody>\n",
       "    <tr>\n",
       "      <th>2011-09-13 13:53:36</th>\n",
       "      <td>5.80</td>\n",
       "    </tr>\n",
       "    <tr>\n",
       "      <th>2011-09-13 13:53:44</th>\n",
       "      <td>5.83</td>\n",
       "    </tr>\n",
       "    <tr>\n",
       "      <th>2011-09-13 13:53:49</th>\n",
       "      <td>5.90</td>\n",
       "    </tr>\n",
       "    <tr>\n",
       "      <th>2011-09-13 13:53:54</th>\n",
       "      <td>6.00</td>\n",
       "    </tr>\n",
       "    <tr>\n",
       "      <th>2011-09-13 14:32:53</th>\n",
       "      <td>5.95</td>\n",
       "    </tr>\n",
       "    <tr>\n",
       "      <th>...</th>\n",
       "      <td>...</td>\n",
       "    </tr>\n",
       "    <tr>\n",
       "      <th>2019-12-12 23:58:18</th>\n",
       "      <td>7184.44</td>\n",
       "    </tr>\n",
       "    <tr>\n",
       "      <th>2019-12-12 23:58:20</th>\n",
       "      <td>7184.44</td>\n",
       "    </tr>\n",
       "    <tr>\n",
       "      <th>2019-12-12 23:59:05</th>\n",
       "      <td>7190.53</td>\n",
       "    </tr>\n",
       "    <tr>\n",
       "      <th>2019-12-12 23:59:20</th>\n",
       "      <td>7188.42</td>\n",
       "    </tr>\n",
       "    <tr>\n",
       "      <th>2019-12-12 23:59:56</th>\n",
       "      <td>7188.42</td>\n",
       "    </tr>\n",
       "  </tbody>\n",
       "</table>\n",
       "<p>35889731 rows × 1 columns</p>\n",
       "</div>"
      ],
      "text/plain": [
       "                        Open\n",
       "Date                        \n",
       "2011-09-13 13:53:36     5.80\n",
       "2011-09-13 13:53:44     5.83\n",
       "2011-09-13 13:53:49     5.90\n",
       "2011-09-13 13:53:54     6.00\n",
       "2011-09-13 14:32:53     5.95\n",
       "...                      ...\n",
       "2019-12-12 23:58:18  7184.44\n",
       "2019-12-12 23:58:20  7184.44\n",
       "2019-12-12 23:59:05  7190.53\n",
       "2019-12-12 23:59:20  7188.42\n",
       "2019-12-12 23:59:56  7188.42\n",
       "\n",
       "[35889731 rows x 1 columns]"
      ]
     },
     "execution_count": 10,
     "metadata": {},
     "output_type": "execute_result"
    }
   ],
   "source": [
    "btcusd"
   ]
  },
  {
   "cell_type": "code",
   "execution_count": 11,
   "metadata": {},
   "outputs": [
    {
     "data": {
      "text/html": [
       "<div>\n",
       "<style scoped>\n",
       "    .dataframe tbody tr th:only-of-type {\n",
       "        vertical-align: middle;\n",
       "    }\n",
       "\n",
       "    .dataframe tbody tr th {\n",
       "        vertical-align: top;\n",
       "    }\n",
       "\n",
       "    .dataframe thead th {\n",
       "        text-align: right;\n",
       "    }\n",
       "</style>\n",
       "<table border=\"1\" class=\"dataframe\">\n",
       "  <thead>\n",
       "    <tr style=\"text-align: right;\">\n",
       "      <th></th>\n",
       "      <th>Open</th>\n",
       "      <th>High</th>\n",
       "      <th>Low</th>\n",
       "      <th>Close</th>\n",
       "    </tr>\n",
       "    <tr>\n",
       "      <th>Date</th>\n",
       "      <th></th>\n",
       "      <th></th>\n",
       "      <th></th>\n",
       "      <th></th>\n",
       "    </tr>\n",
       "  </thead>\n",
       "  <tbody>\n",
       "    <tr>\n",
       "      <th>2011-09-13 13:00:00</th>\n",
       "      <td>5.80</td>\n",
       "      <td>6.00</td>\n",
       "      <td>5.80</td>\n",
       "      <td>6.00</td>\n",
       "    </tr>\n",
       "    <tr>\n",
       "      <th>2011-09-13 14:00:00</th>\n",
       "      <td>5.95</td>\n",
       "      <td>5.95</td>\n",
       "      <td>5.76</td>\n",
       "      <td>5.76</td>\n",
       "    </tr>\n",
       "    <tr>\n",
       "      <th>2011-09-13 15:00:00</th>\n",
       "      <td>5.65</td>\n",
       "      <td>5.65</td>\n",
       "      <td>5.65</td>\n",
       "      <td>5.65</td>\n",
       "    </tr>\n",
       "    <tr>\n",
       "      <th>2011-09-13 16:00:00</th>\n",
       "      <td>5.65</td>\n",
       "      <td>5.65</td>\n",
       "      <td>5.65</td>\n",
       "      <td>5.65</td>\n",
       "    </tr>\n",
       "    <tr>\n",
       "      <th>2011-09-13 17:00:00</th>\n",
       "      <td>5.65</td>\n",
       "      <td>5.65</td>\n",
       "      <td>5.65</td>\n",
       "      <td>5.65</td>\n",
       "    </tr>\n",
       "    <tr>\n",
       "      <th>...</th>\n",
       "      <td>...</td>\n",
       "      <td>...</td>\n",
       "      <td>...</td>\n",
       "      <td>...</td>\n",
       "    </tr>\n",
       "    <tr>\n",
       "      <th>2019-12-12 19:00:00</th>\n",
       "      <td>7205.66</td>\n",
       "      <td>7218.00</td>\n",
       "      <td>7186.36</td>\n",
       "      <td>7193.66</td>\n",
       "    </tr>\n",
       "    <tr>\n",
       "      <th>2019-12-12 20:00:00</th>\n",
       "      <td>7205.14</td>\n",
       "      <td>7250.23</td>\n",
       "      <td>7195.00</td>\n",
       "      <td>7242.49</td>\n",
       "    </tr>\n",
       "    <tr>\n",
       "      <th>2019-12-12 21:00:00</th>\n",
       "      <td>7245.85</td>\n",
       "      <td>7253.68</td>\n",
       "      <td>7180.83</td>\n",
       "      <td>7194.57</td>\n",
       "    </tr>\n",
       "    <tr>\n",
       "      <th>2019-12-12 22:00:00</th>\n",
       "      <td>7194.57</td>\n",
       "      <td>7206.70</td>\n",
       "      <td>7176.90</td>\n",
       "      <td>7193.37</td>\n",
       "    </tr>\n",
       "    <tr>\n",
       "      <th>2019-12-12 23:00:00</th>\n",
       "      <td>7186.04</td>\n",
       "      <td>7202.62</td>\n",
       "      <td>7180.63</td>\n",
       "      <td>7188.42</td>\n",
       "    </tr>\n",
       "  </tbody>\n",
       "</table>\n",
       "<p>72299 rows × 4 columns</p>\n",
       "</div>"
      ],
      "text/plain": [
       "                        Open     High      Low    Close\n",
       "Date                                                   \n",
       "2011-09-13 13:00:00     5.80     6.00     5.80     6.00\n",
       "2011-09-13 14:00:00     5.95     5.95     5.76     5.76\n",
       "2011-09-13 15:00:00     5.65     5.65     5.65     5.65\n",
       "2011-09-13 16:00:00     5.65     5.65     5.65     5.65\n",
       "2011-09-13 17:00:00     5.65     5.65     5.65     5.65\n",
       "...                      ...      ...      ...      ...\n",
       "2019-12-12 19:00:00  7205.66  7218.00  7186.36  7193.66\n",
       "2019-12-12 20:00:00  7205.14  7250.23  7195.00  7242.49\n",
       "2019-12-12 21:00:00  7245.85  7253.68  7180.83  7194.57\n",
       "2019-12-12 22:00:00  7194.57  7206.70  7176.90  7193.37\n",
       "2019-12-12 23:00:00  7186.04  7202.62  7180.63  7188.42\n",
       "\n",
       "[72299 rows x 4 columns]"
      ]
     },
     "execution_count": 11,
     "metadata": {},
     "output_type": "execute_result"
    }
   ],
   "source": [
    "ohlc = op\n",
    "ohlc.columns = ['Open']\n",
    "ohlc['High'] = hi\n",
    "ohlc['Low'] = lo\n",
    "ohlc['Close'] = cl\n",
    "ohlc"
   ]
  },
  {
   "cell_type": "code",
   "execution_count": 12,
   "metadata": {},
   "outputs": [],
   "source": [
    "import datetime as dt"
   ]
  },
  {
   "cell_type": "code",
   "execution_count": 13,
   "metadata": {},
   "outputs": [],
   "source": [
    "yr1 = ohlc.loc['2018-12-12':]\n",
    "yr2 = ohlc.loc['2017-12-12':]\n",
    "yr4 = ohlc.loc['2015-12-12':]"
   ]
  },
  {
   "cell_type": "markdown",
   "metadata": {},
   "source": [
    "# 1 Year SMA and EMA"
   ]
  },
  {
   "cell_type": "code",
   "execution_count": 14,
   "metadata": {},
   "outputs": [],
   "source": [
    "def SMA(values,n):\n",
    "    return pd.Series(values).rolling(n).mean()"
   ]
  },
  {
   "cell_type": "code",
   "execution_count": 15,
   "metadata": {},
   "outputs": [],
   "source": [
    "class SmaCross(Strategy):\n",
    "    \n",
    "    n1 = 37\n",
    "    n2 = 73\n",
    "    \n",
    "    def init(self):\n",
    "        # Precompute two moving averages\n",
    "        self.sma1 = self.I(SMA, self.data.Close, self.n1)\n",
    "        self.sma2 = self.I(SMA, self.data.Close, self.n2)\n",
    "    \n",
    "    def next(self):\n",
    "        # If sma1 crosses above sma2, buy the asset\n",
    "        if crossover(self.sma1, self.sma2):\n",
    "            self.buy()\n",
    "\n",
    "        # Else, if sma1 crosses below sma2, sell it\n",
    "        elif crossover(self.sma2, self.sma1):\n",
    "            self.sell()"
   ]
  },
  {
   "cell_type": "code",
   "execution_count": 16,
   "metadata": {},
   "outputs": [],
   "source": [
    "def EMA(val,n):\n",
    "    res = pd.Series(val).copy()\n",
    "    return res.ewm(span=n,adjust=False).mean()"
   ]
  },
  {
   "cell_type": "code",
   "execution_count": 17,
   "metadata": {},
   "outputs": [],
   "source": [
    "class EmaCross(Strategy):\n",
    "    \n",
    "    n1 = 901\n",
    "    n2 = 931\n",
    "    \n",
    "    def init(self):\n",
    "        # Precompute two moving averages\n",
    "        self.ema1 = self.I(EMA, self.data.Close, self.n1)\n",
    "        self.ema2 = self.I(EMA, self.data.Close, self.n2)\n",
    "        \n",
    "    def next(self):\n",
    "        # If sma1 crosses above ema2, buy the asset\n",
    "        if crossover(self.ema1, self.ema2):\n",
    "            self.buy()\n",
    "\n",
    "        # Else, if ema1 crosses below ema2, sell it\n",
    "        elif crossover(self.ema2, self.ema1):\n",
    "            self.sell()"
   ]
  },
  {
   "cell_type": "code",
   "execution_count": 18,
   "metadata": {},
   "outputs": [],
   "source": [
    "def DEMA(val,n):\n",
    "    exp1 = EMA(val,n)\n",
    "    exp2 = EMA(exp1,n)\n",
    "    return 2*exp1 - exp2"
   ]
  },
  {
   "cell_type": "code",
   "execution_count": 19,
   "metadata": {},
   "outputs": [],
   "source": [
    "class DemaCross(Strategy):\n",
    "    \n",
    "    n1 = 681\n",
    "    n2 = 981\n",
    "    \n",
    "    def init(self):\n",
    "        # Precompute two moving averages\n",
    "        self.dema1 = self.I(DEMA, self.data.Close, self.n1)\n",
    "        self.dema2 = self.I(DEMA, self.data.Close, self.n2)\n",
    "        \n",
    "    def next(self):\n",
    "        # If sma1 crosses above ema2, buy the asset\n",
    "        if crossover(self.dema1, self.dema2):\n",
    "            self.buy()\n",
    "\n",
    "        # Else, if ema1 crosses below ema2, sell it\n",
    "        elif crossover(self.dema2, self.dema1):\n",
    "            self.sell()"
   ]
  },
  {
   "cell_type": "code",
   "execution_count": 20,
   "metadata": {},
   "outputs": [],
   "source": [
    "import scipy.interpolate as interp\n",
    "import numpy as np\n",
    "from mpl_toolkits.mplot3d import Axes3D\n",
    "from matplotlib import cm"
   ]
  },
  {
   "cell_type": "markdown",
   "metadata": {},
   "source": [
    "# Strategies for different Time Horizons"
   ]
  },
  {
   "cell_type": "code",
   "execution_count": 28,
   "metadata": {},
   "outputs": [],
   "source": [
    "def time_horiz(hist,ma):\n",
    "    \n",
    "    if ma == 'SMA':\n",
    "        bt = Backtest(hist,SmaCross,cash=10000)\n",
    "    elif ma == 'EMA':\n",
    "        bt = Backtest(hist,EmaCross,cash=10000)\n",
    "    elif ma == 'DEMA':\n",
    "        bt = Backtest(hist,DemaCross,cash=10000)\n",
    "    \n",
    "    data, heat = bt.optimize('Sharpe Ratio',n1=range(1,200,9),n2=range(1,200,9),constraint=lambda p: p.n1<p.n2,return_heatmap=True)\n",
    "\n",
    "    heat.sort_values()\n",
    "    hmap = heat.groupby(['n1','n2']).mean().unstack()\n",
    "    hmap\n",
    "\n",
    "    heat_pic = sns.heatmap(hmap, cmap='Spectral')\n",
    "    \n",
    "    tr = hmap.stack()\n",
    "\n",
    "    n1 = [i[0] for i in tr.index]\n",
    "    n2 = [i[1] for i in tr.index]\n",
    "\n",
    "    val = []\n",
    "    for (i,j) in zip(n1,n2):\n",
    "        if i<j:\n",
    "            val.append(tr.loc[i,j])\n",
    "\n",
    "    px, py = np.meshgrid(np.linspace(np.min(n1),np.max(n1),100),np.linspace(np.min(n2),np.max(n2),100))\n",
    "    pz = interp.griddata((n1,n2),val,(px,py),method='cubic')\n",
    "\n",
    "    fig = plt.figure()\n",
    "    ax = fig.gca(projection='3d')\n",
    "    surf = ax.plot_surface(px,py,pz,cmap=cm.coolwarm)\n",
    "    fig.colorbar(surf, shrink=0.5, aspect=5)\n",
    "    plt.show()\n",
    "    \n",
    "    return data"
   ]
  },
  {
   "cell_type": "markdown",
   "metadata": {},
   "source": [
    "# Example of walk forward for a year"
   ]
  },
  {
   "cell_type": "code",
   "execution_count": 41,
   "metadata": {},
   "outputs": [
    {
     "data": {
      "application/vnd.jupyter.widget-view+json": {
       "model_id": "",
       "version_major": 2,
       "version_minor": 0
      },
      "text/plain": [
       "HBox(children=(FloatProgress(value=0.0, max=1.0), HTML(value='')))"
      ]
     },
     "metadata": {},
     "output_type": "display_data"
    },
    {
     "name": "stdout",
     "output_type": "stream",
     "text": [
      "Optimal parameters are  SmaCross(n1=1,n2=11)\n"
     ]
    },
    {
     "data": {
      "text/plain": [
       "Start                      2018-12-12 00:00:00\n",
       "End                        2019-12-12 23:00:00\n",
       "Duration                     365 days 23:00:00\n",
       "Exposure [%]                           99.7381\n",
       "Equity Final [$]                         17241\n",
       "Equity Peak [$]                        20940.5\n",
       "Return [%]                             72.4096\n",
       "Buy & Hold Return [%]                  115.559\n",
       "Max. Drawdown [%]                     -28.9398\n",
       "Avg. Drawdown [%]                     -5.97389\n",
       "Max. Drawdown Duration       103 days 06:00:00\n",
       "Avg. Drawdown Duration         8 days 22:00:00\n",
       "# Trades                                  1616\n",
       "Win Rate [%]                           26.1139\n",
       "Best Trade [%]                          25.772\n",
       "Worst Trade [%]                       -6.40701\n",
       "Avg. Trade [%]                       0.0445031\n",
       "Max. Trade Duration            1 days 19:00:00\n",
       "Avg. Trade Duration            0 days 06:00:00\n",
       "Expectancy [%]                        0.834291\n",
       "SQN                                   0.778608\n",
       "Sharpe Ratio                         0.0252529\n",
       "Sortino Ratio                        0.0687829\n",
       "Calmar Ratio                        0.00153778\n",
       "_strategy                 SmaCross(n1=1,n2=11)\n",
       "dtype: object"
      ]
     },
     "execution_count": 41,
     "metadata": {},
     "output_type": "execute_result"
    }
   ],
   "source": [
    "Y_2018_to_2019 = ohlc.loc['2018-12-12':]\n",
    "Y_2017_to_2018 = ohlc.loc['2017-12-12':'2018-12-12']\n",
    "Backtest(Y_2017_to_2018,SmaCross,cash=10000)\n",
    "stats_2017_to_2018, heat_2017_to_2018 = Backtest(Y_2017_to_2018,SmaCross,cash=10000).optimize('Sharpe Ratio',n1=range(1,20,10),n2=range(1,20,10),constraint=lambda p: p.n1<p.n2,return_heatmap=True)\n",
    "print('Optimal parameters are ', stats_2017_to_2018._strategy)\n",
    "\n",
    "\n",
    "stats_walk_forward_2018_to_2019 = Backtest(Y_2018_to_2019, SmaCross, cash=10000).run(n1=stats_2017_to_2018._strategy.n1, n2=stats_2017_to_2018._strategy.n2)\n",
    "stats_walk_forward_2018_to_2019"
   ]
  },
  {
   "cell_type": "markdown",
   "metadata": {},
   "source": [
    "# 1 Year SMA"
   ]
  },
  {
   "cell_type": "code",
   "execution_count": 22,
   "metadata": {},
   "outputs": [
    {
     "name": "stderr",
     "output_type": "stream",
     "text": [
      "/Users/samholt/anaconda3/lib/python3.7/site-packages/ipykernel_launcher.py:2: UserWarning: Searching best of 4950 configurations.\n",
      "  \n"
     ]
    },
    {
     "data": {
      "application/vnd.jupyter.widget-view+json": {
       "model_id": "",
       "version_major": 2,
       "version_minor": 0
      },
      "text/plain": [
       "HBox(children=(FloatProgress(value=0.0, max=17.0), HTML(value='')))"
      ]
     },
     "metadata": {},
     "output_type": "display_data"
    },
    {
     "name": "stdout",
     "output_type": "stream",
     "text": [
      "\r"
     ]
    }
   ],
   "source": [
    "bt = Backtest(yr1,SmaCross,cash=10000)\n",
    "data, heat = bt.optimize('Sharpe Ratio',n1=range(1,1000,10),n2=range(1,1000,10),constraint=lambda p: p.n1<p.n2,return_heatmap=True)"
   ]
  },
  {
   "cell_type": "code",
   "execution_count": 23,
   "metadata": {},
   "outputs": [
    {
     "data": {
      "text/plain": [
       "Start                     2018-12-12 00:00:00\n",
       "End                       2019-12-12 23:00:00\n",
       "Duration                    365 days 23:00:00\n",
       "Exposure [%]                          97.6318\n",
       "Equity Final [$]                      27938.3\n",
       "Equity Peak [$]                         28153\n",
       "Return [%]                            179.383\n",
       "Buy & Hold Return [%]                 115.559\n",
       "Max. Drawdown [%]                    -36.0934\n",
       "Avg. Drawdown [%]                    -4.24022\n",
       "Max. Drawdown Duration      103 days 08:00:00\n",
       "Avg. Drawdown Duration        6 days 02:00:00\n",
       "# Trades                                  137\n",
       "Win Rate [%]                          42.3358\n",
       "Best Trade [%]                        26.2978\n",
       "Worst Trade [%]                      -9.69474\n",
       "Avg. Trade [%]                       0.888667\n",
       "Max. Trade Duration           9 days 20:00:00\n",
       "Avg. Trade Duration           2 days 15:00:00\n",
       "Expectancy [%]                        3.46709\n",
       "SQN                                   1.52872\n",
       "Sharpe Ratio                         0.147457\n",
       "Sortino Ratio                        0.421947\n",
       "Calmar Ratio                        0.0246213\n",
       "_strategy                            SmaCross\n",
       "dtype: object"
      ]
     },
     "execution_count": 23,
     "metadata": {},
     "output_type": "execute_result"
    }
   ],
   "source": [
    "Backtest(yr1,SmaCross,cash=10000).run()"
   ]
  },
  {
   "cell_type": "code",
   "execution_count": 24,
   "metadata": {},
   "outputs": [
    {
     "data": {
      "text/plain": [
       "Start                         2018-12-12 00:00:00\n",
       "End                           2019-12-12 23:00:00\n",
       "Duration                        365 days 23:00:00\n",
       "Exposure [%]                              75.2135\n",
       "Equity Final [$]                          30868.1\n",
       "Equity Peak [$]                           38628.6\n",
       "Return [%]                                208.681\n",
       "Buy & Hold Return [%]                     115.559\n",
       "Max. Drawdown [%]                        -40.2636\n",
       "Avg. Drawdown [%]                        -2.66611\n",
       "Max. Drawdown Duration          169 days 04:00:00\n",
       "Avg. Drawdown Duration            3 days 18:00:00\n",
       "# Trades                                        5\n",
       "Win Rate [%]                                   40\n",
       "Best Trade [%]                            205.001\n",
       "Worst Trade [%]                          -10.2256\n",
       "Avg. Trade [%]                            38.8915\n",
       "Max. Trade Duration             154 days 13:00:00\n",
       "Avg. Trade Duration              55 days 02:00:00\n",
       "Expectancy [%]                            48.6797\n",
       "SQN                                       0.76055\n",
       "Sharpe Ratio                             0.416584\n",
       "Sortino Ratio                             21.4219\n",
       "Calmar Ratio                             0.965922\n",
       "_strategy                 SmaCross(n1=201,n2=951)\n",
       "dtype: object"
      ]
     },
     "execution_count": 24,
     "metadata": {},
     "output_type": "execute_result"
    }
   ],
   "source": [
    "data"
   ]
  },
  {
   "cell_type": "code",
   "execution_count": 25,
   "metadata": {},
   "outputs": [],
   "source": [
    "heat.index.names = [r'Short (days)',r'Long (days)']"
   ]
  },
  {
   "cell_type": "code",
   "execution_count": 26,
   "metadata": {},
   "outputs": [],
   "source": [
    "hh = heat*np.sqrt(12)"
   ]
  },
  {
   "cell_type": "code",
   "execution_count": 27,
   "metadata": {},
   "outputs": [
    {
     "ename": "NameError",
     "evalue": "name 'ax' is not defined",
     "output_type": "error",
     "traceback": [
      "\u001b[0;31m---------------------------------------------------------------------------\u001b[0m",
      "\u001b[0;31mNameError\u001b[0m                                 Traceback (most recent call last)",
      "\u001b[0;32m<ipython-input-27-07a672762edb>\u001b[0m in \u001b[0;36m<module>\u001b[0;34m\u001b[0m\n\u001b[0;32m----> 1\u001b[0;31m \u001b[0max\u001b[0m\u001b[0;34m.\u001b[0m\u001b[0mget_xticks\u001b[0m\u001b[0;34m(\u001b[0m\u001b[0;34m)\u001b[0m\u001b[0;34m\u001b[0m\u001b[0;34m\u001b[0m\u001b[0m\n\u001b[0m",
      "\u001b[0;31mNameError\u001b[0m: name 'ax' is not defined"
     ]
    }
   ],
   "source": [
    "ax.get_xticks()"
   ]
  },
  {
   "cell_type": "code",
   "execution_count": null,
   "metadata": {},
   "outputs": [],
   "source": [
    "hh.sort_values()\n",
    "hmap_sma = hh.groupby([r'Short (days)',r'Long (days)']).mean().unstack()\n",
    "ax = sns.heatmap(hmap_sma,cmap='RdYlGn',xticklabels=list(range(0,101)),yticklabels=list(range(0,101)))\n",
    "ax.set_xticks(ax.get_xticks()[::12])\n",
    "ax.set_xticklabels(list(range(41))[::5])\n",
    "ax.set_yticks(ax.get_yticks()[::12])\n",
    "ax.set_yticklabels(list(range(0,41))[::5])\n",
    "fig = ax.get_figure()"
   ]
  },
  {
   "cell_type": "code",
   "execution_count": null,
   "metadata": {},
   "outputs": [],
   "source": [
    "fig.tight_layout()\n",
    "fig.savefig('btc_sma1_hmap.png')"
   ]
  },
  {
   "cell_type": "code",
   "execution_count": null,
   "metadata": {},
   "outputs": [],
   "source": [
    "tr = hmap_sma.stack()\n",
    "n1 = [i[0] for i in tr.index]\n",
    "n2 = [i[1] for i in tr.index]\n",
    "\n",
    "val = []\n",
    "for (i,j) in zip(n1,n2):\n",
    "    if i<j:\n",
    "        val.append(tr.loc[i,j])\n",
    "\n",
    "px, py = np.meshgrid(np.linspace(np.min(n1),np.max(n1),300),np.linspace(np.min(n2),np.max(n2),300))\n",
    "pz = interp.griddata((n1,n2),val,(px,py),method='cubic')\n",
    "\n",
    "fig = plt.figure()\n",
    "ax = fig.gca(projection='3d')\n",
    "surf = ax.plot_surface(px,py,pz,cmap='RdYlGn',vmin=0.1,vmax=0.9)\n",
    "fig.colorbar(surf, shrink=0.5,aspect=5)\n",
    "ax.set_xlabel(r'Short (hrs)')\n",
    "ax.set_ylabel(r'Long (hrs)')\n",
    "ax.set_zlabel('Sharpe ratio')\n",
    "ax.set_zticks([-0.5,0,0.5,1,1.5])\n",
    "ax.set_xticks([0,250,500,750,1000])\n",
    "ax.set_yticks([0,250,500,750,1000])\n",
    "plt.tight_layout()\n",
    "plt.savefig('plt_sma.png')"
   ]
  },
  {
   "cell_type": "code",
   "execution_count": null,
   "metadata": {},
   "outputs": [],
   "source": [
    "rr = Backtest(yr1,SmaCross_opt,cash=10000).run()._trade_data\n",
    "rr['P/L'].iloc[0] = 0\n",
    "rr['P/L'].interpolate(method='time',inplace=True)"
   ]
  },
  {
   "cell_type": "code",
   "execution_count": null,
   "metadata": {},
   "outputs": [],
   "source": [
    "plt.xlabel('Date')\n",
    "plt.ylabel(r'Equity (USD)')\n",
    "fig = rr['Equity'].plot().get_figure()\n",
    "fig.tight_layout()\n",
    "fig.savefig('btc_sma1_equity.png')"
   ]
  },
  {
   "cell_type": "markdown",
   "metadata": {},
   "source": [
    "# Price Data Plots"
   ]
  },
  {
   "cell_type": "code",
   "execution_count": null,
   "metadata": {},
   "outputs": [],
   "source": [
    "import yfinance as yf"
   ]
  },
  {
   "cell_type": "code",
   "execution_count": null,
   "metadata": {},
   "outputs": [],
   "source": [
    "sp_df = yf.download('^GSPC', \n",
    "                      start='2011-09-13', \n",
    "                      end='2019-12-13', \n",
    "                      progress=False,interval='1d')\n",
    "sp = sp_df.iloc[:,:4]\n",
    "sp"
   ]
  },
  {
   "cell_type": "code",
   "execution_count": null,
   "metadata": {},
   "outputs": [],
   "source": [
    "sp1 = sp.loc['2018-12-12':]\n",
    "sp2 = sp.loc['2017-12-12':]\n",
    "sp4 = sp.loc['2015-12-12':]"
   ]
  },
  {
   "cell_type": "code",
   "execution_count": null,
   "metadata": {},
   "outputs": [],
   "source": [
    "class SmaCross_alt(Strategy):\n",
    "    \n",
    "    n1 = 40\n",
    "    n2 = 43\n",
    "    \n",
    "    def init(self):\n",
    "        # Precompute two moving averages\n",
    "        self.sma1 = self.I(SMA, self.data.Close, self.n1)\n",
    "        self.sma2 = self.I(SMA, self.data.Close, self.n2)\n",
    "    \n",
    "    def next(self):\n",
    "        # If sma1 crosses above sma2, buy the asset\n",
    "        if crossover(self.sma1, self.sma2):\n",
    "            self.buy()\n",
    "\n",
    "        # Else, if sma1 crosses below sma2, sell it\n",
    "        elif crossover(self.sma2, self.sma1):\n",
    "            self.sell()"
   ]
  },
  {
   "cell_type": "code",
   "execution_count": null,
   "metadata": {},
   "outputs": [],
   "source": [
    "sp_run = Backtest(sp1,SmaCross_alt,cash=10000).run()\n",
    "val = sp_run._trade_data"
   ]
  },
  {
   "cell_type": "code",
   "execution_count": null,
   "metadata": {},
   "outputs": [],
   "source": [
    "plt.plot(sp['Close'])\n",
    "plt.xlabel('Date')\n",
    "plt.ylabel('Spot Price (USD)')\n",
    "plt.tight_layout\n",
    "plt.savefig('sp_price_plt.png')"
   ]
  },
  {
   "cell_type": "code",
   "execution_count": null,
   "metadata": {},
   "outputs": [],
   "source": [
    "plt.plot(ohlc['Close'])\n",
    "plt.xlabel('Date')\n",
    "plt.ylabel('Spot Price (USD)')\n",
    "plt.tight_layout\n",
    "plt.savefig('btc_price_plt.png')"
   ]
  },
  {
   "cell_type": "code",
   "execution_count": null,
   "metadata": {},
   "outputs": [],
   "source": [
    "plt.plot(yr1['Close'])\n",
    "plt.xlabel('Date')\n",
    "plt.ylabel('BTCUSD Spot Price (USD)')\n",
    "plt.tight_layout\n",
    "plt.savefig('btc_yr1_p.png')"
   ]
  },
  {
   "cell_type": "code",
   "execution_count": null,
   "metadata": {},
   "outputs": [],
   "source": [
    "rr['Equity'].plot(label='BTCUSD')\n",
    "val['Equity'].plot(label=r'S&P 500')\n",
    "plt.ylabel(r'Equity (USD)')\n",
    "plt.legend(loc='upper left')\n",
    "plt.tight_layout()\n",
    "plt.savefig('equity.png')"
   ]
  },
  {
   "cell_type": "markdown",
   "metadata": {},
   "source": [
    "# Traditional Windows"
   ]
  },
  {
   "cell_type": "code",
   "execution_count": null,
   "metadata": {},
   "outputs": [],
   "source": [
    "Backtest(yr1,SmaCross,cash=10000).optimize('Sharpe Ratio', n1=240,n2=960)"
   ]
  },
  {
   "cell_type": "code",
   "execution_count": null,
   "metadata": {},
   "outputs": [],
   "source": [
    "Backtest(yr1,EmaCross,cash=10000).optimize('Sharpe Ratio', n1=240,n2=960)"
   ]
  },
  {
   "cell_type": "code",
   "execution_count": null,
   "metadata": {},
   "outputs": [],
   "source": [
    "Backtest(yr1,DemaCross,cash=10000).optimize('Sharpe Ratio', n1=240,n2=960)"
   ]
  },
  {
   "cell_type": "code",
   "execution_count": null,
   "metadata": {},
   "outputs": [],
   "source": [
    "Backtest(sp1,SmaCross,cash=10000).optimize('Sharpe Ratio', n1=10,n2=40)"
   ]
  },
  {
   "cell_type": "code",
   "execution_count": null,
   "metadata": {},
   "outputs": [],
   "source": [
    "Backtest(sp1,EmaCross,cash=10000).optimize('Sharpe Ratio', n1=10,n2=40)"
   ]
  },
  {
   "cell_type": "code",
   "execution_count": null,
   "metadata": {},
   "outputs": [],
   "source": [
    "0.451627*np.sqrt(12)"
   ]
  },
  {
   "cell_type": "code",
   "execution_count": null,
   "metadata": {},
   "outputs": [],
   "source": [
    "Backtest(sp1,DemaCross,cash=10000).optimize('Sharpe Ratio', n1=10,n2=40)"
   ]
  },
  {
   "cell_type": "markdown",
   "metadata": {},
   "source": [
    "# PnL Plots"
   ]
  },
  {
   "cell_type": "code",
   "execution_count": null,
   "metadata": {},
   "outputs": [],
   "source": [
    "class SmaCross_trad(Strategy):\n",
    "    \n",
    "    n1 = 1\n",
    "    n2 = 21\n",
    "    \n",
    "    def init(self):\n",
    "        # Precompute two moving averages\n",
    "        self.sma1 = self.I(SMA, self.data.Close, self.n1)\n",
    "        self.sma2 = self.I(SMA, self.data.Close, self.n2)\n",
    "    \n",
    "    def next(self):\n",
    "        # If sma1 crosses above sma2, buy the asset\n",
    "        if crossover(self.sma1, self.sma2):\n",
    "            self.buy()\n",
    "\n",
    "        # Else, if sma1 crosses below sma2, sell it\n",
    "        elif crossover(self.sma2, self.sma1):\n",
    "            self.sell()"
   ]
  },
  {
   "cell_type": "code",
   "execution_count": null,
   "metadata": {},
   "outputs": [],
   "source": [
    "alt_max = Backtest(yr1,SmaCross_alt,cash=10000).run()._trade_data\n",
    "alt_max['P/L'].iloc[0] = 0\n",
    "alt_max = alt_max['P/L'].interpolate(method='time')"
   ]
  },
  {
   "cell_type": "code",
   "execution_count": null,
   "metadata": {},
   "outputs": [],
   "source": [
    "plt.xlabel('Date')\n",
    "plt.ylabel(r'PnL (USD)')\n",
    "rr = Backtest(yr1,SmaCross_opt,cash=10000).run()._trade_data\n",
    "rr['P/L'].iloc[0] = 0\n",
    "rr = rr['P/L'].interpolate(method='time')\n",
    "fig = rr.plot().get_figure()\n",
    "fig.tight_layout()\n",
    "fig.savefig('btc_sma1_pl.png')"
   ]
  },
  {
   "cell_type": "markdown",
   "metadata": {},
   "source": [
    "# Correlation Analysis"
   ]
  },
  {
   "cell_type": "code",
   "execution_count": null,
   "metadata": {},
   "outputs": [],
   "source": [
    "rr = Backtest(yr1,SmaCross_opt,cash=10000).run()._trade_data\n",
    "ap = rr['P/L']\n",
    "bp = val['P/L']\n",
    "bp[0] = 0\n",
    "ap[0] = 0"
   ]
  },
  {
   "cell_type": "code",
   "execution_count": null,
   "metadata": {},
   "outputs": [],
   "source": [
    "bp.interpolate(method='time',inplace=True)\n",
    "ap.interpolate(method='time',inplace=True)"
   ]
  },
  {
   "cell_type": "code",
   "execution_count": null,
   "metadata": {},
   "outputs": [],
   "source": [
    "ap = ap.asfreq('D')"
   ]
  },
  {
   "cell_type": "code",
   "execution_count": null,
   "metadata": {},
   "outputs": [],
   "source": [
    "bp = bp.asfreq('D').interpolate(method='time')\n",
    "bp.rolling(20).corr(ap).dropna().plot()\n",
    "plt.ylabel('Correlation')\n",
    "plt.tight_layout()"
   ]
  },
  {
   "cell_type": "code",
   "execution_count": null,
   "metadata": {},
   "outputs": [],
   "source": [
    "bp.rolling(20).corr(ap).dropna().plot()\n",
    "plt.ylabel('Correlation')\n",
    "plt.tight_layout()\n",
    "plt.savefig('cor_sma1.png')"
   ]
  },
  {
   "cell_type": "code",
   "execution_count": null,
   "metadata": {},
   "outputs": [],
   "source": [
    "sp1_close = sp1['Close']\n",
    "btc1_close = yr1['Close']"
   ]
  },
  {
   "cell_type": "code",
   "execution_count": null,
   "metadata": {},
   "outputs": [],
   "source": [
    "btc1_close = btc1_close.asfreq('D')\n",
    "sp1_close = sp1_close.asfreq('D')\n",
    "sp1_close.interpolate(method='time',inplace=True)"
   ]
  },
  {
   "cell_type": "code",
   "execution_count": null,
   "metadata": {},
   "outputs": [],
   "source": [
    "import matplotlib.dates as mdates"
   ]
  },
  {
   "cell_type": "code",
   "execution_count": null,
   "metadata": {},
   "outputs": [],
   "source": [
    "btc1_close.rolling(20).corr(sp1_close).dropna().plot()\n",
    "plt.ylabel('Correlation')\n",
    "plt.axvspan(dt.datetime(2019,5,8),dt.datetime(2019,6,20), color='r', alpha=0.3)\n",
    "plt.axvspan(dt.datetime(2019,1,1),dt.datetime(2019,2,12), color='r', alpha=0.3)\n",
    "plt.axvspan(dt.datetime(2019,7,8),dt.datetime(2019,8,20), color='r', alpha=0.3)\n",
    "plt.axvspan(dt.datetime(2019,11,12),dt.datetime(2019,12,12), color='r', alpha=0.3)\n",
    "plt.tight_layout()\n",
    "plt.savefig('cor_price.png')"
   ]
  },
  {
   "cell_type": "code",
   "execution_count": null,
   "metadata": {},
   "outputs": [],
   "source": [
    "ap.rolling(20).corr(sp1_close).dropna().plot()\n",
    "plt.ylabel('Correlation')\n",
    "plt.axvspan(dt.datetime(2019,5,8),dt.datetime(2019,6,10), color='r', alpha=0.3)\n",
    "plt.axvspan(dt.datetime(2019,9,24),dt.datetime(2019,10,16), color='r', alpha=0.3)\n",
    "plt.axvspan(dt.datetime(2019,11,4),dt.datetime(2019,12,12), color='r', alpha=0.3)\n",
    "plt.tight_layout()\n",
    "plt.savefig('sp_close_sma1_corr.png')"
   ]
  },
  {
   "cell_type": "markdown",
   "metadata": {},
   "source": [
    "# Evolving Sharpe Ratio"
   ]
  },
  {
   "cell_type": "code",
   "execution_count": null,
   "metadata": {},
   "outputs": [],
   "source": [
    "y1 = ohlc.loc['2018-12-12':]\n",
    "y2 = ohlc.loc['2017-12-12':'2018-12-12']\n",
    "y3 = ohlc.loc['2016-12-12':'2017-12-12']\n",
    "y4 = ohlc.loc['2015-12-12':'2016-12-12']\n",
    "y5 = ohlc.loc['2014-12-12':'2015-12-12']\n",
    "y6 = ohlc.loc['2013-12-12':'2014-12-12']\n",
    "y7 = ohlc.loc['2012-12-12':'2013-12-12']\n",
    "y8 = ohlc.loc['2011-12-12':'2012-12-12']"
   ]
  },
  {
   "cell_type": "markdown",
   "metadata": {},
   "source": [
    "## SMA"
   ]
  },
  {
   "cell_type": "code",
   "execution_count": null,
   "metadata": {},
   "outputs": [],
   "source": [
    "sma = Backtest(y1,SmaCross,cash=10000)"
   ]
  },
  {
   "cell_type": "code",
   "execution_count": null,
   "metadata": {},
   "outputs": [],
   "source": [
    "s1 = sma.optimize('Sharpe Ratio',n1=range(1,1000,10),n2=range(1,1000,10),constraint=lambda p: p.n1<p.n2)"
   ]
  },
  {
   "cell_type": "code",
   "execution_count": null,
   "metadata": {},
   "outputs": [],
   "source": [
    "sma = Backtest(y2,SmaCross,cash=10000)"
   ]
  },
  {
   "cell_type": "code",
   "execution_count": null,
   "metadata": {},
   "outputs": [],
   "source": [
    "s2 = sma.optimize('Sharpe Ratio',n1=range(1,1000,10),n2=range(1,1000,10),constraint=lambda p: p.n1<p.n2)"
   ]
  },
  {
   "cell_type": "code",
   "execution_count": null,
   "metadata": {},
   "outputs": [],
   "source": [
    "sma = Backtest(y3,SmaCross,cash=10000)"
   ]
  },
  {
   "cell_type": "code",
   "execution_count": null,
   "metadata": {},
   "outputs": [],
   "source": [
    "s3 = sma.optimize('Sharpe Ratio',n1=range(1,1000,10),n2=range(1,1000,10),constraint=lambda p: p.n1<p.n2)"
   ]
  },
  {
   "cell_type": "code",
   "execution_count": null,
   "metadata": {},
   "outputs": [],
   "source": [
    "sma = Backtest(y4,SmaCross,cash=10000)"
   ]
  },
  {
   "cell_type": "code",
   "execution_count": null,
   "metadata": {},
   "outputs": [],
   "source": [
    "s4 = sma.optimize('Sharpe Ratio',n1=range(1,1000,10),n2=range(1,1000,10),constraint=lambda p: p.n1<p.n2)"
   ]
  },
  {
   "cell_type": "code",
   "execution_count": null,
   "metadata": {},
   "outputs": [],
   "source": [
    "sma = Backtest(y5,SmaCross,cash=10000)"
   ]
  },
  {
   "cell_type": "code",
   "execution_count": null,
   "metadata": {},
   "outputs": [],
   "source": [
    "s5 = sma.optimize('Sharpe Ratio',n1=range(1,1000,10),n2=range(1,1000,10),constraint=lambda p: p.n1<p.n2)"
   ]
  },
  {
   "cell_type": "code",
   "execution_count": null,
   "metadata": {},
   "outputs": [],
   "source": [
    "sma = Backtest(y6,SmaCross,cash=10000)\n",
    "s6 = sma.optimize('Sharpe Ratio',n1=range(1,1000,10),n2=range(1,1000,10),constraint=lambda p: p.n1<p.n2)"
   ]
  },
  {
   "cell_type": "code",
   "execution_count": null,
   "metadata": {},
   "outputs": [],
   "source": [
    "sma = Backtest(y7,SmaCross,cash=10000)\n",
    "s7 = sma.optimize('Sharpe Ratio',n1=range(1,1000,10),n2=range(1,1000,10),constraint=lambda p: p.n1<p.n2)"
   ]
  },
  {
   "cell_type": "code",
   "execution_count": null,
   "metadata": {},
   "outputs": [],
   "source": [
    "sma = Backtest(y8,SmaCross,cash=10000)\n",
    "s8 = sma.optimize('Sharpe Ratio',n1=range(1,1000,10),n2=range(1,1000,10),constraint=lambda p: p.n1<p.n2)"
   ]
  },
  {
   "cell_type": "code",
   "execution_count": null,
   "metadata": {},
   "outputs": [],
   "source": [
    "ema = Backtest(y2,EmaCross,cash=10000)\n",
    "e2 = ema.optimize('Sharpe Ratio',n1=range(1,1000,10),n2=range(1,1000,10),constraint=lambda p: p.n1<p.n2)"
   ]
  },
  {
   "cell_type": "code",
   "execution_count": null,
   "metadata": {},
   "outputs": [],
   "source": [
    "ema = Backtest(y3,EmaCross,cash=10000)\n",
    "e3 = ema.optimize('Sharpe Ratio',n1=range(1,1000,10),n2=range(1,1000,10),constraint=lambda p: p.n1<p.n2)"
   ]
  },
  {
   "cell_type": "code",
   "execution_count": null,
   "metadata": {},
   "outputs": [],
   "source": [
    "ema = Backtest(y4,EmaCross,cash=10000)\n",
    "e4 = ema.optimize('Sharpe Ratio',n1=range(1,1000,10),n2=range(1,1000,10),constraint=lambda p: p.n1<p.n2)"
   ]
  },
  {
   "cell_type": "code",
   "execution_count": null,
   "metadata": {},
   "outputs": [],
   "source": [
    "ema = Backtest(y5,EmaCross,cash=10000)\n",
    "e5 = ema.optimize('Sharpe Ratio',n1=range(1,1000,10),n2=range(1,1000,10),constraint=lambda p: p.n1<p.n2)"
   ]
  },
  {
   "cell_type": "code",
   "execution_count": null,
   "metadata": {
    "scrolled": false
   },
   "outputs": [],
   "source": [
    "ema = Backtest(y6,EmaCross,cash=10000)\n",
    "e6 = ema.optimize('Sharpe Ratio',n1=range(1,1000,10),n2=range(1,1000,10),constraint=lambda p: p.n1<p.n2)"
   ]
  },
  {
   "cell_type": "code",
   "execution_count": null,
   "metadata": {},
   "outputs": [],
   "source": [
    "ema = Backtest(y7,EmaCross,cash=10000)\n",
    "e7 = ema.optimize('Sharpe Ratio',n1=range(1,1000,10),n2=range(1,1000,10),constraint=lambda p: p.n1<p.n2)"
   ]
  },
  {
   "cell_type": "code",
   "execution_count": null,
   "metadata": {},
   "outputs": [],
   "source": [
    "ema = Backtest(y8,EmaCross,cash=10000)\n",
    "e8 = ema.optimize('Sharpe Ratio',n1=range(1,1000,10),n2=range(1,1000,10),constraint=lambda p: p.n1<p.n2)"
   ]
  },
  {
   "cell_type": "code",
   "execution_count": null,
   "metadata": {},
   "outputs": [],
   "source": [
    "dema = Backtest(y2,DemaCross,cash=10000)\n",
    "d2 = dema.optimize('Sharpe Ratio',n1=range(1,1000,10),n2=range(1,1000,10),constraint=lambda p: p.n1<p.n2)"
   ]
  },
  {
   "cell_type": "code",
   "execution_count": null,
   "metadata": {},
   "outputs": [],
   "source": [
    "dema = Backtest(y3,DemaCross,cash=10000)\n",
    "d3 = dema.optimize('Sharpe Ratio',n1=range(1,1000,10),n2=range(1,1000,10),constraint=lambda p: p.n1<p.n2)"
   ]
  },
  {
   "cell_type": "code",
   "execution_count": null,
   "metadata": {},
   "outputs": [],
   "source": [
    "dema = Backtest(y4,DemaCross,cash=10000)\n",
    "d4 = dema.optimize('Sharpe Ratio',n1=range(1,1000,10),n2=range(1,1000,10),constraint=lambda p: p.n1<p.n2)"
   ]
  },
  {
   "cell_type": "code",
   "execution_count": null,
   "metadata": {},
   "outputs": [],
   "source": [
    "dema = Backtest(y5,DemaCross,cash=10000)\n",
    "d5 = dema.optimize('Sharpe Ratio',n1=range(1,1000,10),n2=range(1,1000,10),constraint=lambda p: p.n1<p.n2)"
   ]
  },
  {
   "cell_type": "code",
   "execution_count": null,
   "metadata": {},
   "outputs": [],
   "source": [
    "dema = Backtest(y6,DemaCross,cash=10000)\n",
    "d6 = dema.optimize('Sharpe Ratio',n1=range(1,1000,10),n2=range(1,1000,10),constraint=lambda p: p.n1<p.n2)"
   ]
  },
  {
   "cell_type": "code",
   "execution_count": null,
   "metadata": {},
   "outputs": [],
   "source": [
    "dema = Backtest(y7,DemaCross,cash=10000)\n",
    "d7 = dema.optimize('Sharpe Ratio',n1=range(1,1000,10),n2=range(1,1000,10),constraint=lambda p: p.n1<p.n2)"
   ]
  },
  {
   "cell_type": "code",
   "execution_count": null,
   "metadata": {},
   "outputs": [],
   "source": [
    "dema = Backtest(y8,DemaCross,cash=10000)\n",
    "d8 = dema.optimize('Sharpe Ratio',n1=range(1,1000,10),n2=range(1,1000,10),constraint=lambda p: p.n1<p.n2)"
   ]
  },
  {
   "cell_type": "code",
   "execution_count": null,
   "metadata": {},
   "outputs": [],
   "source": [
    "d8"
   ]
  },
  {
   "cell_type": "code",
   "execution_count": null,
   "metadata": {},
   "outputs": [],
   "source": [
    "from dateutil.relativedelta import relativedelta as rd"
   ]
  },
  {
   "cell_type": "code",
   "execution_count": null,
   "metadata": {},
   "outputs": [],
   "source": [
    "start = s1['Start']\n",
    "times_arr = [start]\n",
    "\n",
    "for i in range(1,8):\n",
    "    times_arr.append(start-rd(years=i))\n",
    "    \n",
    "times_arr"
   ]
  },
  {
   "cell_type": "code",
   "execution_count": null,
   "metadata": {},
   "outputs": [],
   "source": [
    "sma_s = [201,441,251,311,151,361,831,211]\n",
    "sma_l = [951,521,481,991,861,991,991,541]"
   ]
  },
  {
   "cell_type": "code",
   "execution_count": null,
   "metadata": {},
   "outputs": [],
   "source": [
    "ema_s = [901,101,821,881,421,541,161,521]\n",
    "ema_l = [931,211,951,961,791,831,931,681]"
   ]
  },
  {
   "cell_type": "code",
   "execution_count": null,
   "metadata": {},
   "outputs": [],
   "source": [
    "dema_s = [681,131,421,921,401,331,531,981]\n",
    "dema_l = [981,701,461,951,571,341,661,991]"
   ]
  },
  {
   "cell_type": "code",
   "execution_count": null,
   "metadata": {},
   "outputs": [],
   "source": [
    "for i in [sma_s,sma_l,ema_s,ema_l,dema_s,dema_l]:\n",
    "    print(np.mean(i))"
   ]
  },
  {
   "cell_type": "code",
   "execution_count": null,
   "metadata": {},
   "outputs": [],
   "source": [
    "q1 = pd.Series(sma_s)\n",
    "q2 = pd.Series(sma_l)\n",
    "q1.corr(q2)"
   ]
  },
  {
   "cell_type": "code",
   "execution_count": null,
   "metadata": {},
   "outputs": [],
   "source": [
    "plt.plot(times_arr,sma_s,label='SMA Short')\n",
    "plt.plot(times_arr,sma_l, label = 'SMA Long')\n",
    "plt.xlabel('Date')\n",
    "plt.ylabel(r'Rolling Window (hrs)')\n",
    "plt.legend(loc=(0.07,0.04))\n",
    "plt.tight_layout()\n",
    "plt.savefig('sma_rol.png')"
   ]
  },
  {
   "cell_type": "code",
   "execution_count": null,
   "metadata": {},
   "outputs": [],
   "source": [
    "plt.plot(times_arr,ema_s,label='EMA Short')\n",
    "plt.plot(times_arr,ema_l,label='EMA Long')\n",
    "plt.xlabel('Date')\n",
    "plt.ylabel(r'Rolling Window (hrs)')\n",
    "plt.legend(loc=(0.1,0.6))\n",
    "plt.tight_layout()\n",
    "plt.savefig('ema_rol.png')"
   ]
  },
  {
   "cell_type": "code",
   "execution_count": null,
   "metadata": {},
   "outputs": [],
   "source": [
    "plt.plot(times_arr,dema_s,label='DEMA Short')\n",
    "plt.plot(times_arr,dema_l, label='DEMA Long')\n",
    "plt.xlabel('Date')\n",
    "plt.ylabel(r'Rolling Window (hrs)')\n",
    "plt.legend()\n",
    "plt.tight_layout()\n",
    "plt.savefig('dema_rol.png')"
   ]
  },
  {
   "cell_type": "markdown",
   "metadata": {},
   "source": [
    "# Cumulative PnL"
   ]
  },
  {
   "cell_type": "code",
   "execution_count": null,
   "metadata": {},
   "outputs": [],
   "source": [
    "class SmaCross_opt(Strategy):\n",
    "    \n",
    "    n1 = 201\n",
    "    n2 = 951\n",
    "    \n",
    "    def init(self):\n",
    "        # Precompute two moving averages\n",
    "        self.sma1 = self.I(SMA, self.data.Close, self.n1)\n",
    "        self.sma2 = self.I(SMA, self.data.Close, self.n2)\n",
    "    \n",
    "    def next(self):\n",
    "        # If sma1 crosses above sma2, buy the asset\n",
    "        if crossover(self.sma1, self.sma2):\n",
    "            self.buy()\n",
    "\n",
    "        # Else, if sma1 crosses below sma2, sell it\n",
    "        elif crossover(self.sma2, self.sma1):\n",
    "            self.sell()"
   ]
  },
  {
   "cell_type": "code",
   "execution_count": null,
   "metadata": {},
   "outputs": [],
   "source": [
    "class EmaCross_opt(Strategy):\n",
    "    \n",
    "    n1 = 901\n",
    "    n2 = 931\n",
    "    \n",
    "    def init(self):\n",
    "        # Precompute two moving averages\n",
    "        self.ema1 = self.I(EMA, self.data.Close, self.n1)\n",
    "        self.ema2 = self.I(EMA, self.data.Close, self.n2)\n",
    "        \n",
    "    def next(self):\n",
    "        # If sma1 crosses above ema2, buy the asset\n",
    "        if crossover(self.ema1, self.ema2):\n",
    "            self.buy()\n",
    "\n",
    "        # Else, if ema1 crosses below ema2, sell it\n",
    "        elif crossover(self.ema2, self.ema1):\n",
    "            self.sell()"
   ]
  },
  {
   "cell_type": "code",
   "execution_count": null,
   "metadata": {},
   "outputs": [],
   "source": [
    "class DemaCross_opt(Strategy):\n",
    "    \n",
    "    n1 = 681\n",
    "    n2 = 981\n",
    "    \n",
    "    def init(self):\n",
    "        # Precompute two moving averages\n",
    "        self.dema1 = self.I(DEMA, self.data.Close, self.n1)\n",
    "        self.dema2 = self.I(DEMA, self.data.Close, self.n2)\n",
    "        \n",
    "    def next(self):\n",
    "        # If sma1 crosses above ema2, buy the asset\n",
    "        if crossover(self.dema1, self.dema2):\n",
    "            self.buy()\n",
    "\n",
    "        # Else, if ema1 crosses below ema2, sell it\n",
    "        elif crossover(self.dema2, self.dema1):\n",
    "            self.sell()"
   ]
  },
  {
   "cell_type": "code",
   "execution_count": null,
   "metadata": {},
   "outputs": [],
   "source": [
    "spl = Backtest(yr1,SmaCross_opt,cash=10000).run()._trade_data"
   ]
  },
  {
   "cell_type": "code",
   "execution_count": null,
   "metadata": {},
   "outputs": [],
   "source": [
    "spl = spl['P/L']"
   ]
  },
  {
   "cell_type": "code",
   "execution_count": null,
   "metadata": {},
   "outputs": [],
   "source": [
    "spl.fillna(0).cumsum().plot()"
   ]
  },
  {
   "cell_type": "code",
   "execution_count": null,
   "metadata": {},
   "outputs": [],
   "source": [
    "epl = Backtest(yr1,EmaCross_opt,cash=10000).run()._trade_data\n",
    "dpl = Backtest(yr1,DemaCross_opt,cash=10000).run()._trade_data"
   ]
  },
  {
   "cell_type": "code",
   "execution_count": null,
   "metadata": {},
   "outputs": [],
   "source": [
    "epl = epl['P/L']\n",
    "dpl = dpl['P/L']"
   ]
  },
  {
   "cell_type": "code",
   "execution_count": null,
   "metadata": {},
   "outputs": [],
   "source": [
    "spl.fillna(0).cumsum().plot(label = 'SMA Strategy')\n",
    "epl.fillna(0).cumsum().plot(label = 'EMA Strategy')\n",
    "dpl.fillna(0).cumsum().plot(label = 'DEMA Strategy')\n",
    "plt.ylabel(r'PnL (USD)')\n",
    "plt.legend(loc = 'upper left')\n",
    "plt.tight_layout()\n",
    "plt.savefig('cum_pnl.png')"
   ]
  },
  {
   "cell_type": "markdown",
   "metadata": {},
   "source": [
    "# 1 Year EMA"
   ]
  },
  {
   "cell_type": "code",
   "execution_count": null,
   "metadata": {},
   "outputs": [],
   "source": [
    "ema1 = Backtest(yr1,EmaCross,cash=10000)\n",
    "d_ema1, heat_ema = ema1.optimize('Sharpe Ratio',n1=range(1,1000,10),n2=range(1,1000,10),constraint=lambda p: p.n1<p.n2,return_heatmap=True)"
   ]
  },
  {
   "cell_type": "code",
   "execution_count": null,
   "metadata": {},
   "outputs": [],
   "source": [
    "d_ema1"
   ]
  },
  {
   "cell_type": "code",
   "execution_count": null,
   "metadata": {},
   "outputs": [],
   "source": [
    "heat_ema.index.names = [r'Short (days)',r'Long (days)']\n",
    "hh_ema = heat_ema*np.sqrt(12)"
   ]
  },
  {
   "cell_type": "code",
   "execution_count": null,
   "metadata": {},
   "outputs": [],
   "source": [
    "hh_ema.sort_values()\n",
    "hmap_ema = hh_ema.groupby([r'Short (days)',r'Long (days)']).mean().unstack()\n",
    "ax = sns.heatmap(hmap_ema,cmap='RdYlGn',xticklabels=list(range(0,101)),yticklabels=list(range(0,101)))\n",
    "ax.set_xticks(ax.get_xticks()[::12])\n",
    "ax.set_xticklabels(list(range(0,41))[::5])\n",
    "ax.set_yticks(ax.get_yticks()[::12])\n",
    "ax.set_yticklabels(list(range(0,41))[::5])\n",
    "fig = ax.get_figure()"
   ]
  },
  {
   "cell_type": "code",
   "execution_count": null,
   "metadata": {},
   "outputs": [],
   "source": [
    "fig.tight_layout()\n",
    "fig.savefig('btc_ema_hmap.png')"
   ]
  },
  {
   "cell_type": "code",
   "execution_count": null,
   "metadata": {},
   "outputs": [],
   "source": [
    "tr = hmap_ema.stack()\n",
    "n1 = [i[0] for i in tr.index]\n",
    "n2 = [i[1] for i in tr.index]\n",
    "\n",
    "val = []\n",
    "for (i,j) in zip(n1,n2):\n",
    "    if i<j:\n",
    "        val.append(tr.loc[i,j])\n",
    "\n",
    "px, py = np.meshgrid(np.linspace(np.min(n1),np.max(n1),300),np.linspace(np.min(n2),np.max(n2),300))\n",
    "pz = interp.griddata((n1,n2),val,(px,py),method='cubic')\n",
    "\n",
    "fig = plt.figure()\n",
    "ax = fig.gca(projection='3d')\n",
    "surf = ax.plot_surface(px,py,pz,cmap='RdYlGn',vmin=0.1,vmax=0.9)\n",
    "fig.colorbar(surf, shrink=0.5,aspect=5)\n",
    "ax.set_xlabel(r'Short (hrs)')\n",
    "ax.set_ylabel(r'Long (hrs)')\n",
    "ax.set_zlabel('Sharpe ratio')\n",
    "ax.set_zticks([-0.5,0,0.5,1,1.5])\n",
    "ax.set_xticks([0,250,500,750,1000])\n",
    "ax.set_yticks([0,250,500,750,1000])\n",
    "plt.tight_layout()\n",
    "plt.savefig('plt_ema.png')"
   ]
  },
  {
   "cell_type": "markdown",
   "metadata": {},
   "source": [
    "# 1 Year DEMA"
   ]
  },
  {
   "cell_type": "code",
   "execution_count": null,
   "metadata": {},
   "outputs": [],
   "source": [
    "dema1 = Backtest(yr1,DemaCross,cash=10000)\n",
    "d_dema1, heat_dema = dema1.optimize('Sharpe Ratio',n1=range(1,1000,10),n2=range(1,1000,10),constraint=lambda p: p.n1<p.n2,return_heatmap=True)"
   ]
  },
  {
   "cell_type": "code",
   "execution_count": null,
   "metadata": {},
   "outputs": [],
   "source": [
    "d_dema1"
   ]
  },
  {
   "cell_type": "code",
   "execution_count": null,
   "metadata": {},
   "outputs": [],
   "source": [
    "heat_dema.index.names = [r'Short (days)',r'Long (days)']\n",
    "hh_dema = heat_dema*np.sqrt(12)"
   ]
  },
  {
   "cell_type": "code",
   "execution_count": null,
   "metadata": {},
   "outputs": [],
   "source": [
    "hh_dema.sort_values()\n",
    "hmap_dema = hh_dema.groupby([r'Short (days)',r'Long (days)']).mean().unstack()\n",
    "ax = sns.heatmap(hmap_dema,cmap='RdYlGn',xticklabels=list(range(0,101)),yticklabels=list(range(0,101)))\n",
    "ax.set_xticks(ax.get_xticks()[::12])\n",
    "ax.set_xticklabels(list(range(0,41))[::5])\n",
    "ax.set_yticks(ax.get_yticks()[::12])\n",
    "ax.set_yticklabels(list(range(0,41))[::5])\n",
    "fig = ax.get_figure()"
   ]
  },
  {
   "cell_type": "code",
   "execution_count": null,
   "metadata": {},
   "outputs": [],
   "source": [
    "fig.tight_layout()\n",
    "fig.savefig('btc_dema_hmap.png')"
   ]
  },
  {
   "cell_type": "code",
   "execution_count": null,
   "metadata": {},
   "outputs": [],
   "source": [
    "tr = hmap_dema.stack()\n",
    "n1 = [i[0] for i in tr.index]\n",
    "n2 = [i[1] for i in tr.index]\n",
    "\n",
    "val = []\n",
    "for (i,j) in zip(n1,n2):\n",
    "    if i<j:\n",
    "        val.append(tr.loc[i,j])\n",
    "\n",
    "px, py = np.meshgrid(np.linspace(np.min(n1),np.max(n1),300),np.linspace(np.min(n2),np.max(n2),300))\n",
    "pz = interp.griddata((n1,n2),val,(px,py),method='cubic')\n",
    "\n",
    "fig = plt.figure()\n",
    "ax = fig.gca(projection='3d')\n",
    "surf = ax.plot_surface(px,py,pz,cmap='RdYlGn',vmin=-0.3,vmax=0.5)\n",
    "fig.colorbar(surf, shrink=0.5,aspect=5)\n",
    "ax.set_xlabel(r'Short (hrs)')\n",
    "ax.set_ylabel(r'Long (hrs)')\n",
    "ax.set_zlabel('Sharpe ratio')\n",
    "ax.set_zticks([-1,-0.5,0,0.5,1])\n",
    "ax.set_xticks([0,250,500,750,1000])\n",
    "ax.set_yticks([0,250,500,750,1000])\n",
    "plt.tight_layout()\n",
    "plt.savefig('plt_dema.png')"
   ]
  },
  {
   "cell_type": "markdown",
   "metadata": {},
   "source": [
    "# 2 Year SMA"
   ]
  },
  {
   "cell_type": "code",
   "execution_count": null,
   "metadata": {
    "scrolled": true
   },
   "outputs": [],
   "source": [
    "sma2 = Backtest(yr2,SmaCross,cash=10000)\n",
    "d_sma2, heat_sma2 = sma2.optimize('Sharpe Ratio',n1=range(1,1000,10),n2=range(1,1000,10),constraint=lambda p: p.n1<p.n2,return_heatmap=True)"
   ]
  },
  {
   "cell_type": "code",
   "execution_count": null,
   "metadata": {},
   "outputs": [],
   "source": [
    "d_sma2"
   ]
  },
  {
   "cell_type": "code",
   "execution_count": null,
   "metadata": {},
   "outputs": [],
   "source": [
    "heat_sma2.sort_values()\n",
    "hmap_sma2 = heat_sma2.groupby(['n1','n2']).mean().unstack()\n",
    "sns.heatmap(hmap_sma2,cmap='RdYlGn')"
   ]
  },
  {
   "cell_type": "markdown",
   "metadata": {},
   "source": [
    "# 2 Year EMA"
   ]
  },
  {
   "cell_type": "code",
   "execution_count": null,
   "metadata": {},
   "outputs": [],
   "source": [
    "ema2 = Backtest(yr2,EmaCross,cash=10000)\n",
    "d_ema2, heat_ema2 = ema2.optimize('Sharpe Ratio',n1=range(1,1000,10),n2=range(1,1000,10),constraint=lambda p: p.n1<p.n2,return_heatmap=True)"
   ]
  },
  {
   "cell_type": "code",
   "execution_count": null,
   "metadata": {},
   "outputs": [],
   "source": [
    "d_ema2"
   ]
  },
  {
   "cell_type": "code",
   "execution_count": null,
   "metadata": {},
   "outputs": [],
   "source": [
    "heat_ema2.sort_values()\n",
    "hmap_ema2 = heat_ema2.groupby(['n1','n2']).mean().unstack()\n",
    "sns.heatmap(hmap_ema2,cmap='RdYlGn')"
   ]
  },
  {
   "cell_type": "markdown",
   "metadata": {},
   "source": [
    "# 2 Year DEMA"
   ]
  },
  {
   "cell_type": "code",
   "execution_count": null,
   "metadata": {},
   "outputs": [],
   "source": [
    "dema2 = Backtest(yr2,DemaCross,cash=10000)\n",
    "d_dema2, heat_dema2 = dema2.optimize('Sharpe Ratio',n1=range(1,1000,10),n2=range(1,1000,10),constraint=lambda p: p.n1<p.n2,return_heatmap=True)"
   ]
  },
  {
   "cell_type": "code",
   "execution_count": null,
   "metadata": {},
   "outputs": [],
   "source": [
    "d_dema2"
   ]
  },
  {
   "cell_type": "code",
   "execution_count": null,
   "metadata": {},
   "outputs": [],
   "source": [
    "heat_dema2.sort_values()\n",
    "hmap_dema2 = heat_dema2.groupby(['n1','n2']).mean().unstack()\n",
    "sns.heatmap(hmap_dema2,cmap='RdYlGn')"
   ]
  },
  {
   "cell_type": "markdown",
   "metadata": {},
   "source": [
    "# 4 Year SMA"
   ]
  },
  {
   "cell_type": "code",
   "execution_count": null,
   "metadata": {},
   "outputs": [],
   "source": [
    "sma4 = Backtest(yr4,SmaCross,cash=10000)\n",
    "d_sma4, heat_sma4 = sma4.optimize('Sharpe Ratio',n1=range(1,1000,10),n2=range(1,1000,10),constraint=lambda p: p.n1<p.n2,return_heatmap=True)"
   ]
  },
  {
   "cell_type": "code",
   "execution_count": null,
   "metadata": {},
   "outputs": [],
   "source": [
    "d_sma4"
   ]
  },
  {
   "cell_type": "code",
   "execution_count": null,
   "metadata": {},
   "outputs": [],
   "source": [
    "heat_sma4.sort_values()\n",
    "hmap_sma4 = heat_sma4.groupby(['n1','n2']).mean().unstack()\n",
    "sns.heatmap(hmap_sma4,cmap='RdYlGn')"
   ]
  },
  {
   "cell_type": "markdown",
   "metadata": {},
   "source": [
    "# 4 Year EMA"
   ]
  },
  {
   "cell_type": "code",
   "execution_count": null,
   "metadata": {},
   "outputs": [],
   "source": [
    "ema4 = Backtest(yr4,EmaCross,cash=10000)\n",
    "d_ema4, heat_ema4 = ema4.optimize('Sharpe Ratio',n1=range(1,1000,10),n2=range(1,1000,10),constraint=lambda p: p.n1<p.n2,return_heatmap=True)"
   ]
  },
  {
   "cell_type": "code",
   "execution_count": null,
   "metadata": {},
   "outputs": [],
   "source": [
    "d_ema4"
   ]
  },
  {
   "cell_type": "markdown",
   "metadata": {},
   "source": [
    "# 4 Year DEMA"
   ]
  },
  {
   "cell_type": "code",
   "execution_count": null,
   "metadata": {},
   "outputs": [],
   "source": [
    "dema4 = Backtest(yr4,DemaCross,cash=10000)\n",
    "d_dema4, heat_dema4 = dema4.optimize('Sharpe Ratio',n1=range(1,1000,10),n2=range(1,1000,10),constraint=lambda p: p.n1<p.n2,return_heatmap=True)"
   ]
  },
  {
   "cell_type": "code",
   "execution_count": null,
   "metadata": {},
   "outputs": [],
   "source": [
    "d_dema4"
   ]
  },
  {
   "cell_type": "markdown",
   "metadata": {},
   "source": [
    "# Whole Dataset"
   ]
  },
  {
   "cell_type": "code",
   "execution_count": null,
   "metadata": {},
   "outputs": [],
   "source": [
    "smaw = Backtest(ohlc,SmaCross,cash=10000)\n",
    "d_smaw, heat_smaw = smaw.optimize('Sharpe Ratio',n1=range(1,1000,10),n2=range(1,1000,10),constraint=lambda p: p.n1<p.n2,return_heatmap=True)"
   ]
  },
  {
   "cell_type": "code",
   "execution_count": null,
   "metadata": {},
   "outputs": [],
   "source": [
    "emaw = Backtest(ohlc,EmaCross,cash=10000)\n",
    "d_emaw, heat_emaw = emaw.optimize('Sharpe Ratio',n1=range(1,1000,10),n2=range(1,1000,10),constraint=lambda p: p.n1<p.n2,return_heatmap=True)"
   ]
  },
  {
   "cell_type": "code",
   "execution_count": null,
   "metadata": {},
   "outputs": [],
   "source": [
    "demaw = Backtest(ohlc,DemaCross,cash=10000)\n",
    "d_demaw, heat_demaw = demaw.optimize('Sharpe Ratio',n1=range(1,1000,10),n2=range(1,1000,10),constraint=lambda p: p.n1<p.n2,return_heatmap=True)"
   ]
  },
  {
   "cell_type": "code",
   "execution_count": null,
   "metadata": {},
   "outputs": [],
   "source": [
    "d_demaw"
   ]
  }
 ],
 "metadata": {
  "kernelspec": {
   "display_name": "Python 3",
   "language": "python",
   "name": "python3"
  },
  "language_info": {
   "codemirror_mode": {
    "name": "ipython",
    "version": 3
   },
   "file_extension": ".py",
   "mimetype": "text/x-python",
   "name": "python",
   "nbconvert_exporter": "python",
   "pygments_lexer": "ipython3",
   "version": "3.7.5"
  }
 },
 "nbformat": 4,
 "nbformat_minor": 2
}
