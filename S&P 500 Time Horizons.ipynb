{
 "cells": [
  {
   "cell_type": "code",
   "execution_count": 1,
   "metadata": {},
   "outputs": [],
   "source": [
    "import pandas as pd\n",
    "import numpy as np\n",
    "import yfinance as yf"
   ]
  },
  {
   "cell_type": "code",
   "execution_count": 2,
   "metadata": {},
   "outputs": [],
   "source": [
    "%matplotlib inline\n",
    "import matplotlib.pyplot as plt\n",
    "import seaborn as sns"
   ]
  },
  {
   "cell_type": "code",
   "execution_count": 3,
   "metadata": {},
   "outputs": [
    {
     "name": "stderr",
     "output_type": "stream",
     "text": [
      "C:\\Users\\antho\\Anaconda3\\lib\\site-packages\\backtesting\\_plotting.py:44: UserWarning: Jupyter Notebook detected. Setting Bokeh output to notebook. This may not work in Jupyter clients without JavaScript support (e.g. PyCharm, Spyder IDE). Reset with `backtesting.set_bokeh_output(notebook=False)`.\n",
      "  warnings.warn('Jupyter Notebook detected. '\n"
     ]
    },
    {
     "data": {
      "text/html": [
       "\n",
       "    <div class=\"bk-root\">\n",
       "        <a href=\"https://bokeh.org\" target=\"_blank\" class=\"bk-logo bk-logo-small bk-logo-notebook\"></a>\n",
       "        <span id=\"1001\">Loading BokehJS ...</span>\n",
       "    </div>"
      ]
     },
     "metadata": {},
     "output_type": "display_data"
    },
    {
     "data": {
      "application/javascript": [
       "\n",
       "(function(root) {\n",
       "  function now() {\n",
       "    return new Date();\n",
       "  }\n",
       "\n",
       "  var force = true;\n",
       "\n",
       "  if (typeof root._bokeh_onload_callbacks === \"undefined\" || force === true) {\n",
       "    root._bokeh_onload_callbacks = [];\n",
       "    root._bokeh_is_loading = undefined;\n",
       "  }\n",
       "\n",
       "  var JS_MIME_TYPE = 'application/javascript';\n",
       "  var HTML_MIME_TYPE = 'text/html';\n",
       "  var EXEC_MIME_TYPE = 'application/vnd.bokehjs_exec.v0+json';\n",
       "  var CLASS_NAME = 'output_bokeh rendered_html';\n",
       "\n",
       "  /**\n",
       "   * Render data to the DOM node\n",
       "   */\n",
       "  function render(props, node) {\n",
       "    var script = document.createElement(\"script\");\n",
       "    node.appendChild(script);\n",
       "  }\n",
       "\n",
       "  /**\n",
       "   * Handle when an output is cleared or removed\n",
       "   */\n",
       "  function handleClearOutput(event, handle) {\n",
       "    var cell = handle.cell;\n",
       "\n",
       "    var id = cell.output_area._bokeh_element_id;\n",
       "    var server_id = cell.output_area._bokeh_server_id;\n",
       "    // Clean up Bokeh references\n",
       "    if (id != null && id in Bokeh.index) {\n",
       "      Bokeh.index[id].model.document.clear();\n",
       "      delete Bokeh.index[id];\n",
       "    }\n",
       "\n",
       "    if (server_id !== undefined) {\n",
       "      // Clean up Bokeh references\n",
       "      var cmd = \"from bokeh.io.state import curstate; print(curstate().uuid_to_server['\" + server_id + \"'].get_sessions()[0].document.roots[0]._id)\";\n",
       "      cell.notebook.kernel.execute(cmd, {\n",
       "        iopub: {\n",
       "          output: function(msg) {\n",
       "            var id = msg.content.text.trim();\n",
       "            if (id in Bokeh.index) {\n",
       "              Bokeh.index[id].model.document.clear();\n",
       "              delete Bokeh.index[id];\n",
       "            }\n",
       "          }\n",
       "        }\n",
       "      });\n",
       "      // Destroy server and session\n",
       "      var cmd = \"import bokeh.io.notebook as ion; ion.destroy_server('\" + server_id + \"')\";\n",
       "      cell.notebook.kernel.execute(cmd);\n",
       "    }\n",
       "  }\n",
       "\n",
       "  /**\n",
       "   * Handle when a new output is added\n",
       "   */\n",
       "  function handleAddOutput(event, handle) {\n",
       "    var output_area = handle.output_area;\n",
       "    var output = handle.output;\n",
       "\n",
       "    // limit handleAddOutput to display_data with EXEC_MIME_TYPE content only\n",
       "    if ((output.output_type != \"display_data\") || (!output.data.hasOwnProperty(EXEC_MIME_TYPE))) {\n",
       "      return\n",
       "    }\n",
       "\n",
       "    var toinsert = output_area.element.find(\".\" + CLASS_NAME.split(' ')[0]);\n",
       "\n",
       "    if (output.metadata[EXEC_MIME_TYPE][\"id\"] !== undefined) {\n",
       "      toinsert[toinsert.length - 1].firstChild.textContent = output.data[JS_MIME_TYPE];\n",
       "      // store reference to embed id on output_area\n",
       "      output_area._bokeh_element_id = output.metadata[EXEC_MIME_TYPE][\"id\"];\n",
       "    }\n",
       "    if (output.metadata[EXEC_MIME_TYPE][\"server_id\"] !== undefined) {\n",
       "      var bk_div = document.createElement(\"div\");\n",
       "      bk_div.innerHTML = output.data[HTML_MIME_TYPE];\n",
       "      var script_attrs = bk_div.children[0].attributes;\n",
       "      for (var i = 0; i < script_attrs.length; i++) {\n",
       "        toinsert[toinsert.length - 1].firstChild.setAttribute(script_attrs[i].name, script_attrs[i].value);\n",
       "        toinsert[toinsert.length - 1].firstChild.textContent = bk_div.children[0].textContent\n",
       "      }\n",
       "      // store reference to server id on output_area\n",
       "      output_area._bokeh_server_id = output.metadata[EXEC_MIME_TYPE][\"server_id\"];\n",
       "    }\n",
       "  }\n",
       "\n",
       "  function register_renderer(events, OutputArea) {\n",
       "\n",
       "    function append_mime(data, metadata, element) {\n",
       "      // create a DOM node to render to\n",
       "      var toinsert = this.create_output_subarea(\n",
       "        metadata,\n",
       "        CLASS_NAME,\n",
       "        EXEC_MIME_TYPE\n",
       "      );\n",
       "      this.keyboard_manager.register_events(toinsert);\n",
       "      // Render to node\n",
       "      var props = {data: data, metadata: metadata[EXEC_MIME_TYPE]};\n",
       "      render(props, toinsert[toinsert.length - 1]);\n",
       "      element.append(toinsert);\n",
       "      return toinsert\n",
       "    }\n",
       "\n",
       "    /* Handle when an output is cleared or removed */\n",
       "    events.on('clear_output.CodeCell', handleClearOutput);\n",
       "    events.on('delete.Cell', handleClearOutput);\n",
       "\n",
       "    /* Handle when a new output is added */\n",
       "    events.on('output_added.OutputArea', handleAddOutput);\n",
       "\n",
       "    /**\n",
       "     * Register the mime type and append_mime function with output_area\n",
       "     */\n",
       "    OutputArea.prototype.register_mime_type(EXEC_MIME_TYPE, append_mime, {\n",
       "      /* Is output safe? */\n",
       "      safe: true,\n",
       "      /* Index of renderer in `output_area.display_order` */\n",
       "      index: 0\n",
       "    });\n",
       "  }\n",
       "\n",
       "  // register the mime type if in Jupyter Notebook environment and previously unregistered\n",
       "  if (root.Jupyter !== undefined) {\n",
       "    var events = require('base/js/events');\n",
       "    var OutputArea = require('notebook/js/outputarea').OutputArea;\n",
       "\n",
       "    if (OutputArea.prototype.mime_types().indexOf(EXEC_MIME_TYPE) == -1) {\n",
       "      register_renderer(events, OutputArea);\n",
       "    }\n",
       "  }\n",
       "\n",
       "  \n",
       "  if (typeof (root._bokeh_timeout) === \"undefined\" || force === true) {\n",
       "    root._bokeh_timeout = Date.now() + 5000;\n",
       "    root._bokeh_failed_load = false;\n",
       "  }\n",
       "\n",
       "  var NB_LOAD_WARNING = {'data': {'text/html':\n",
       "     \"<div style='background-color: #fdd'>\\n\"+\n",
       "     \"<p>\\n\"+\n",
       "     \"BokehJS does not appear to have successfully loaded. If loading BokehJS from CDN, this \\n\"+\n",
       "     \"may be due to a slow or bad network connection. Possible fixes:\\n\"+\n",
       "     \"</p>\\n\"+\n",
       "     \"<ul>\\n\"+\n",
       "     \"<li>re-rerun `output_notebook()` to attempt to load from CDN again, or</li>\\n\"+\n",
       "     \"<li>use INLINE resources instead, as so:</li>\\n\"+\n",
       "     \"</ul>\\n\"+\n",
       "     \"<code>\\n\"+\n",
       "     \"from bokeh.resources import INLINE\\n\"+\n",
       "     \"output_notebook(resources=INLINE)\\n\"+\n",
       "     \"</code>\\n\"+\n",
       "     \"</div>\"}};\n",
       "\n",
       "  function display_loaded() {\n",
       "    var el = document.getElementById(\"1001\");\n",
       "    if (el != null) {\n",
       "      el.textContent = \"BokehJS is loading...\";\n",
       "    }\n",
       "    if (root.Bokeh !== undefined) {\n",
       "      if (el != null) {\n",
       "        el.textContent = \"BokehJS \" + root.Bokeh.version + \" successfully loaded.\";\n",
       "      }\n",
       "    } else if (Date.now() < root._bokeh_timeout) {\n",
       "      setTimeout(display_loaded, 100)\n",
       "    }\n",
       "  }\n",
       "\n",
       "\n",
       "  function run_callbacks() {\n",
       "    try {\n",
       "      root._bokeh_onload_callbacks.forEach(function(callback) {\n",
       "        if (callback != null)\n",
       "          callback();\n",
       "      });\n",
       "    } finally {\n",
       "      delete root._bokeh_onload_callbacks\n",
       "    }\n",
       "    console.debug(\"Bokeh: all callbacks have finished\");\n",
       "  }\n",
       "\n",
       "  function load_libs(css_urls, js_urls, callback) {\n",
       "    if (css_urls == null) css_urls = [];\n",
       "    if (js_urls == null) js_urls = [];\n",
       "\n",
       "    root._bokeh_onload_callbacks.push(callback);\n",
       "    if (root._bokeh_is_loading > 0) {\n",
       "      console.debug(\"Bokeh: BokehJS is being loaded, scheduling callback at\", now());\n",
       "      return null;\n",
       "    }\n",
       "    if (js_urls == null || js_urls.length === 0) {\n",
       "      run_callbacks();\n",
       "      return null;\n",
       "    }\n",
       "    console.debug(\"Bokeh: BokehJS not loaded, scheduling load and callback at\", now());\n",
       "    root._bokeh_is_loading = css_urls.length + js_urls.length;\n",
       "\n",
       "    function on_load() {\n",
       "      root._bokeh_is_loading--;\n",
       "      if (root._bokeh_is_loading === 0) {\n",
       "        console.debug(\"Bokeh: all BokehJS libraries/stylesheets loaded\");\n",
       "        run_callbacks()\n",
       "      }\n",
       "    }\n",
       "\n",
       "    function on_error() {\n",
       "      console.error(\"failed to load \" + url);\n",
       "    }\n",
       "\n",
       "    for (var i = 0; i < css_urls.length; i++) {\n",
       "      var url = css_urls[i];\n",
       "      const element = document.createElement(\"link\");\n",
       "      element.onload = on_load;\n",
       "      element.onerror = on_error;\n",
       "      element.rel = \"stylesheet\";\n",
       "      element.type = \"text/css\";\n",
       "      element.href = url;\n",
       "      console.debug(\"Bokeh: injecting link tag for BokehJS stylesheet: \", url);\n",
       "      document.body.appendChild(element);\n",
       "    }\n",
       "\n",
       "    for (var i = 0; i < js_urls.length; i++) {\n",
       "      var url = js_urls[i];\n",
       "      var element = document.createElement('script');\n",
       "      element.onload = on_load;\n",
       "      element.onerror = on_error;\n",
       "      element.async = false;\n",
       "      element.src = url;\n",
       "      \n",
       "      console.debug(\"Bokeh: injecting script tag for BokehJS library: \", url);\n",
       "      document.head.appendChild(element);\n",
       "    }\n",
       "  };var element = document.getElementById(\"1001\");\n",
       "  if (element == null) {\n",
       "    console.error(\"Bokeh: ERROR: autoload.js configured with elementid '1001' but no matching script tag was found. \")\n",
       "    return false;\n",
       "  }\n",
       "\n",
       "  function inject_raw_css(css) {\n",
       "    const element = document.createElement(\"style\");\n",
       "    element.appendChild(document.createTextNode(css));\n",
       "    document.body.appendChild(element);\n",
       "  }\n",
       "\n",
       "  \n",
       "  var js_urls = [\"https://cdn.bokeh.org/bokeh/release/bokeh-2.0.0.min.js\", \"https://cdn.bokeh.org/bokeh/release/bokeh-widgets-2.0.0.min.js\", \"https://cdn.bokeh.org/bokeh/release/bokeh-tables-2.0.0.min.js\", \"https://cdn.bokeh.org/bokeh/release/bokeh-gl-2.0.0.min.js\"];\n",
       "  var css_urls = [];\n",
       "  \n",
       "\n",
       "  var inline_js = [\n",
       "    function(Bokeh) {\n",
       "      Bokeh.set_log_level(\"info\");\n",
       "    },\n",
       "    function(Bokeh) {\n",
       "    \n",
       "    \n",
       "    }\n",
       "  ];\n",
       "\n",
       "  function run_inline_js() {\n",
       "    \n",
       "    if (root.Bokeh !== undefined || force === true) {\n",
       "      \n",
       "    for (var i = 0; i < inline_js.length; i++) {\n",
       "      inline_js[i].call(root, root.Bokeh);\n",
       "    }\n",
       "    if (force === true) {\n",
       "        display_loaded();\n",
       "      }} else if (Date.now() < root._bokeh_timeout) {\n",
       "      setTimeout(run_inline_js, 100);\n",
       "    } else if (!root._bokeh_failed_load) {\n",
       "      console.log(\"Bokeh: BokehJS failed to load within specified timeout.\");\n",
       "      root._bokeh_failed_load = true;\n",
       "    } else if (force !== true) {\n",
       "      var cell = $(document.getElementById(\"1001\")).parents('.cell').data().cell;\n",
       "      cell.output_area.append_execute_result(NB_LOAD_WARNING)\n",
       "    }\n",
       "\n",
       "  }\n",
       "\n",
       "  if (root._bokeh_is_loading === 0) {\n",
       "    console.debug(\"Bokeh: BokehJS loaded, going straight to plotting\");\n",
       "    run_inline_js();\n",
       "  } else {\n",
       "    load_libs(css_urls, js_urls, function() {\n",
       "      console.debug(\"Bokeh: BokehJS plotting callback run at\", now());\n",
       "      run_inline_js();\n",
       "    });\n",
       "  }\n",
       "}(window));"
      ],
      "application/vnd.bokehjs_load.v0+json": "\n(function(root) {\n  function now() {\n    return new Date();\n  }\n\n  var force = true;\n\n  if (typeof root._bokeh_onload_callbacks === \"undefined\" || force === true) {\n    root._bokeh_onload_callbacks = [];\n    root._bokeh_is_loading = undefined;\n  }\n\n  \n\n  \n  if (typeof (root._bokeh_timeout) === \"undefined\" || force === true) {\n    root._bokeh_timeout = Date.now() + 5000;\n    root._bokeh_failed_load = false;\n  }\n\n  var NB_LOAD_WARNING = {'data': {'text/html':\n     \"<div style='background-color: #fdd'>\\n\"+\n     \"<p>\\n\"+\n     \"BokehJS does not appear to have successfully loaded. If loading BokehJS from CDN, this \\n\"+\n     \"may be due to a slow or bad network connection. Possible fixes:\\n\"+\n     \"</p>\\n\"+\n     \"<ul>\\n\"+\n     \"<li>re-rerun `output_notebook()` to attempt to load from CDN again, or</li>\\n\"+\n     \"<li>use INLINE resources instead, as so:</li>\\n\"+\n     \"</ul>\\n\"+\n     \"<code>\\n\"+\n     \"from bokeh.resources import INLINE\\n\"+\n     \"output_notebook(resources=INLINE)\\n\"+\n     \"</code>\\n\"+\n     \"</div>\"}};\n\n  function display_loaded() {\n    var el = document.getElementById(\"1001\");\n    if (el != null) {\n      el.textContent = \"BokehJS is loading...\";\n    }\n    if (root.Bokeh !== undefined) {\n      if (el != null) {\n        el.textContent = \"BokehJS \" + root.Bokeh.version + \" successfully loaded.\";\n      }\n    } else if (Date.now() < root._bokeh_timeout) {\n      setTimeout(display_loaded, 100)\n    }\n  }\n\n\n  function run_callbacks() {\n    try {\n      root._bokeh_onload_callbacks.forEach(function(callback) {\n        if (callback != null)\n          callback();\n      });\n    } finally {\n      delete root._bokeh_onload_callbacks\n    }\n    console.debug(\"Bokeh: all callbacks have finished\");\n  }\n\n  function load_libs(css_urls, js_urls, callback) {\n    if (css_urls == null) css_urls = [];\n    if (js_urls == null) js_urls = [];\n\n    root._bokeh_onload_callbacks.push(callback);\n    if (root._bokeh_is_loading > 0) {\n      console.debug(\"Bokeh: BokehJS is being loaded, scheduling callback at\", now());\n      return null;\n    }\n    if (js_urls == null || js_urls.length === 0) {\n      run_callbacks();\n      return null;\n    }\n    console.debug(\"Bokeh: BokehJS not loaded, scheduling load and callback at\", now());\n    root._bokeh_is_loading = css_urls.length + js_urls.length;\n\n    function on_load() {\n      root._bokeh_is_loading--;\n      if (root._bokeh_is_loading === 0) {\n        console.debug(\"Bokeh: all BokehJS libraries/stylesheets loaded\");\n        run_callbacks()\n      }\n    }\n\n    function on_error() {\n      console.error(\"failed to load \" + url);\n    }\n\n    for (var i = 0; i < css_urls.length; i++) {\n      var url = css_urls[i];\n      const element = document.createElement(\"link\");\n      element.onload = on_load;\n      element.onerror = on_error;\n      element.rel = \"stylesheet\";\n      element.type = \"text/css\";\n      element.href = url;\n      console.debug(\"Bokeh: injecting link tag for BokehJS stylesheet: \", url);\n      document.body.appendChild(element);\n    }\n\n    for (var i = 0; i < js_urls.length; i++) {\n      var url = js_urls[i];\n      var element = document.createElement('script');\n      element.onload = on_load;\n      element.onerror = on_error;\n      element.async = false;\n      element.src = url;\n      \n      console.debug(\"Bokeh: injecting script tag for BokehJS library: \", url);\n      document.head.appendChild(element);\n    }\n  };var element = document.getElementById(\"1001\");\n  if (element == null) {\n    console.error(\"Bokeh: ERROR: autoload.js configured with elementid '1001' but no matching script tag was found. \")\n    return false;\n  }\n\n  function inject_raw_css(css) {\n    const element = document.createElement(\"style\");\n    element.appendChild(document.createTextNode(css));\n    document.body.appendChild(element);\n  }\n\n  \n  var js_urls = [\"https://cdn.bokeh.org/bokeh/release/bokeh-2.0.0.min.js\", \"https://cdn.bokeh.org/bokeh/release/bokeh-widgets-2.0.0.min.js\", \"https://cdn.bokeh.org/bokeh/release/bokeh-tables-2.0.0.min.js\", \"https://cdn.bokeh.org/bokeh/release/bokeh-gl-2.0.0.min.js\"];\n  var css_urls = [];\n  \n\n  var inline_js = [\n    function(Bokeh) {\n      Bokeh.set_log_level(\"info\");\n    },\n    function(Bokeh) {\n    \n    \n    }\n  ];\n\n  function run_inline_js() {\n    \n    if (root.Bokeh !== undefined || force === true) {\n      \n    for (var i = 0; i < inline_js.length; i++) {\n      inline_js[i].call(root, root.Bokeh);\n    }\n    if (force === true) {\n        display_loaded();\n      }} else if (Date.now() < root._bokeh_timeout) {\n      setTimeout(run_inline_js, 100);\n    } else if (!root._bokeh_failed_load) {\n      console.log(\"Bokeh: BokehJS failed to load within specified timeout.\");\n      root._bokeh_failed_load = true;\n    } else if (force !== true) {\n      var cell = $(document.getElementById(\"1001\")).parents('.cell').data().cell;\n      cell.output_area.append_execute_result(NB_LOAD_WARNING)\n    }\n\n  }\n\n  if (root._bokeh_is_loading === 0) {\n    console.debug(\"Bokeh: BokehJS loaded, going straight to plotting\");\n    run_inline_js();\n  } else {\n    load_libs(css_urls, js_urls, function() {\n      console.debug(\"Bokeh: BokehJS plotting callback run at\", now());\n      run_inline_js();\n    });\n  }\n}(window));"
     },
     "metadata": {},
     "output_type": "display_data"
    }
   ],
   "source": [
    "from backtesting import Strategy\n",
    "from backtesting.lib import crossover\n",
    "from backtesting import Backtest"
   ]
  },
  {
   "cell_type": "code",
   "execution_count": 4,
   "metadata": {},
   "outputs": [],
   "source": [
    "import scipy.interpolate as interp\n",
    "import numpy as np\n",
    "\n",
    "from mpl_toolkits.mplot3d import Axes3D\n",
    "from matplotlib import cm"
   ]
  },
  {
   "cell_type": "code",
   "execution_count": 5,
   "metadata": {
    "scrolled": false
   },
   "outputs": [
    {
     "data": {
      "text/html": [
       "<div>\n",
       "<style scoped>\n",
       "    .dataframe tbody tr th:only-of-type {\n",
       "        vertical-align: middle;\n",
       "    }\n",
       "\n",
       "    .dataframe tbody tr th {\n",
       "        vertical-align: top;\n",
       "    }\n",
       "\n",
       "    .dataframe thead th {\n",
       "        text-align: right;\n",
       "    }\n",
       "</style>\n",
       "<table border=\"1\" class=\"dataframe\">\n",
       "  <thead>\n",
       "    <tr style=\"text-align: right;\">\n",
       "      <th></th>\n",
       "      <th>Open</th>\n",
       "      <th>High</th>\n",
       "      <th>Low</th>\n",
       "      <th>Close</th>\n",
       "    </tr>\n",
       "    <tr>\n",
       "      <th>Date</th>\n",
       "      <th></th>\n",
       "      <th></th>\n",
       "      <th></th>\n",
       "      <th></th>\n",
       "    </tr>\n",
       "  </thead>\n",
       "  <tbody>\n",
       "    <tr>\n",
       "      <td>2011-09-12</td>\n",
       "      <td>1153.500000</td>\n",
       "      <td>1162.520020</td>\n",
       "      <td>1136.069946</td>\n",
       "      <td>1162.270020</td>\n",
       "    </tr>\n",
       "    <tr>\n",
       "      <td>2011-09-13</td>\n",
       "      <td>1162.589966</td>\n",
       "      <td>1176.410034</td>\n",
       "      <td>1157.439941</td>\n",
       "      <td>1172.869995</td>\n",
       "    </tr>\n",
       "    <tr>\n",
       "      <td>2011-09-14</td>\n",
       "      <td>1173.319946</td>\n",
       "      <td>1202.380005</td>\n",
       "      <td>1162.729980</td>\n",
       "      <td>1188.680054</td>\n",
       "    </tr>\n",
       "    <tr>\n",
       "      <td>2011-09-15</td>\n",
       "      <td>1189.439941</td>\n",
       "      <td>1209.109985</td>\n",
       "      <td>1189.439941</td>\n",
       "      <td>1209.109985</td>\n",
       "    </tr>\n",
       "    <tr>\n",
       "      <td>2011-09-16</td>\n",
       "      <td>1209.209961</td>\n",
       "      <td>1220.060059</td>\n",
       "      <td>1204.459961</td>\n",
       "      <td>1216.010010</td>\n",
       "    </tr>\n",
       "    <tr>\n",
       "      <td>...</td>\n",
       "      <td>...</td>\n",
       "      <td>...</td>\n",
       "      <td>...</td>\n",
       "      <td>...</td>\n",
       "    </tr>\n",
       "    <tr>\n",
       "      <td>2019-12-06</td>\n",
       "      <td>3134.620117</td>\n",
       "      <td>3150.600098</td>\n",
       "      <td>3134.620117</td>\n",
       "      <td>3145.909912</td>\n",
       "    </tr>\n",
       "    <tr>\n",
       "      <td>2019-12-09</td>\n",
       "      <td>3141.860107</td>\n",
       "      <td>3148.870117</td>\n",
       "      <td>3135.459961</td>\n",
       "      <td>3135.959961</td>\n",
       "    </tr>\n",
       "    <tr>\n",
       "      <td>2019-12-10</td>\n",
       "      <td>3135.360107</td>\n",
       "      <td>3142.120117</td>\n",
       "      <td>3126.090088</td>\n",
       "      <td>3132.520020</td>\n",
       "    </tr>\n",
       "    <tr>\n",
       "      <td>2019-12-11</td>\n",
       "      <td>3135.750000</td>\n",
       "      <td>3143.979980</td>\n",
       "      <td>3133.209961</td>\n",
       "      <td>3141.629883</td>\n",
       "    </tr>\n",
       "    <tr>\n",
       "      <td>2019-12-12</td>\n",
       "      <td>3141.229980</td>\n",
       "      <td>3176.280029</td>\n",
       "      <td>3138.469971</td>\n",
       "      <td>3168.570068</td>\n",
       "    </tr>\n",
       "  </tbody>\n",
       "</table>\n",
       "<p>2078 rows × 4 columns</p>\n",
       "</div>"
      ],
      "text/plain": [
       "                   Open         High          Low        Close\n",
       "Date                                                          \n",
       "2011-09-12  1153.500000  1162.520020  1136.069946  1162.270020\n",
       "2011-09-13  1162.589966  1176.410034  1157.439941  1172.869995\n",
       "2011-09-14  1173.319946  1202.380005  1162.729980  1188.680054\n",
       "2011-09-15  1189.439941  1209.109985  1189.439941  1209.109985\n",
       "2011-09-16  1209.209961  1220.060059  1204.459961  1216.010010\n",
       "...                 ...          ...          ...          ...\n",
       "2019-12-06  3134.620117  3150.600098  3134.620117  3145.909912\n",
       "2019-12-09  3141.860107  3148.870117  3135.459961  3135.959961\n",
       "2019-12-10  3135.360107  3142.120117  3126.090088  3132.520020\n",
       "2019-12-11  3135.750000  3143.979980  3133.209961  3141.629883\n",
       "2019-12-12  3141.229980  3176.280029  3138.469971  3168.570068\n",
       "\n",
       "[2078 rows x 4 columns]"
      ]
     },
     "execution_count": 5,
     "metadata": {},
     "output_type": "execute_result"
    }
   ],
   "source": [
    "sp_df = yf.download('^GSPC', \n",
    "                      start='2011-09-13', \n",
    "                      end='2019-12-13', \n",
    "                      progress=False,interval='1d')\n",
    "ohlc = sp_df.iloc[:,:4]\n",
    "ohlc"
   ]
  },
  {
   "cell_type": "code",
   "execution_count": 6,
   "metadata": {},
   "outputs": [],
   "source": [
    "yr1 = ohlc.loc['2018-12-12':]\n",
    "yr2 = ohlc.loc['2017-12-12':]\n",
    "yr4 = ohlc.loc['2015-12-12':]"
   ]
  },
  {
   "cell_type": "markdown",
   "metadata": {},
   "source": [
    "# Strategies"
   ]
  },
  {
   "cell_type": "code",
   "execution_count": 7,
   "metadata": {},
   "outputs": [],
   "source": [
    "def SMA(values,n):\n",
    "    return pd.Series(values).rolling(n).mean()"
   ]
  },
  {
   "cell_type": "code",
   "execution_count": 8,
   "metadata": {},
   "outputs": [],
   "source": [
    "class SmaCross(Strategy):\n",
    "    \n",
    "    n1 = 1\n",
    "    n2 = 21\n",
    "    \n",
    "    def init(self):\n",
    "        # Precompute two moving averages\n",
    "        self.sma1 = self.I(SMA, self.data.Close, self.n1)\n",
    "        self.sma2 = self.I(SMA, self.data.Close, self.n2)\n",
    "    \n",
    "    def next(self):\n",
    "        # If sma1 crosses above sma2, buy the asset\n",
    "        if crossover(self.sma1, self.sma2):\n",
    "            self.buy()\n",
    "\n",
    "        # Else, if sma1 crosses below sma2, sell it\n",
    "        elif crossover(self.sma2, self.sma1):\n",
    "            self.sell()"
   ]
  },
  {
   "cell_type": "code",
   "execution_count": 9,
   "metadata": {},
   "outputs": [],
   "source": [
    "def EMA(val,n):\n",
    "    res = pd.Series(val).copy()\n",
    "    return res.ewm(span=n,adjust=False).mean()"
   ]
  },
  {
   "cell_type": "code",
   "execution_count": 10,
   "metadata": {},
   "outputs": [],
   "source": [
    "class EmaCross(Strategy):\n",
    "    \n",
    "    n1 = 37\n",
    "    n2 = 46\n",
    "    \n",
    "    def init(self):\n",
    "        # Precompute two moving averages\n",
    "        self.ema1 = self.I(EMA, self.data.Close, self.n1)\n",
    "        self.ema2 = self.I(EMA, self.data.Close, self.n2)\n",
    "        \n",
    "    def next(self):\n",
    "        # If sma1 crosses above ema2, buy the asset\n",
    "        if crossover(self.ema1, self.ema2):\n",
    "            self.buy()\n",
    "\n",
    "        # Else, if ema1 crosses below ema2, sell it\n",
    "        elif crossover(self.ema2, self.ema1):\n",
    "            self.sell()"
   ]
  },
  {
   "cell_type": "code",
   "execution_count": 11,
   "metadata": {},
   "outputs": [],
   "source": [
    "def DEMA(val,n):\n",
    "    exp1 = EMA(val,n)\n",
    "    exp2 = EMA(exp1,n)\n",
    "    return 2*exp1 - exp2"
   ]
  },
  {
   "cell_type": "code",
   "execution_count": 12,
   "metadata": {},
   "outputs": [],
   "source": [
    "class DemaCross(Strategy):\n",
    "    \n",
    "    n1 = 37\n",
    "    n2 = 46\n",
    "    \n",
    "    def init(self):\n",
    "        # Precompute two moving averages\n",
    "        self.dema1 = self.I(DEMA, self.data.Close, self.n1)\n",
    "        self.dema2 = self.I(DEMA, self.data.Close, self.n2)\n",
    "        \n",
    "    def next(self):\n",
    "        # If sma1 crosses above ema2, buy the asset\n",
    "        if crossover(self.dema1, self.dema2):\n",
    "            self.buy()\n",
    "\n",
    "        # Else, if ema1 crosses below ema2, sell it\n",
    "        elif crossover(self.dema2, self.dema1):\n",
    "            self.sell()"
   ]
  },
  {
   "cell_type": "markdown",
   "metadata": {},
   "source": [
    "# Strategies for Time Horizons"
   ]
  },
  {
   "cell_type": "code",
   "execution_count": 13,
   "metadata": {},
   "outputs": [],
   "source": [
    "def time_horiz(hist,ma):\n",
    "    \n",
    "    if ma == 'SMA':\n",
    "        bt = Backtest(hist,SmaCross,cash=10000)\n",
    "    elif ma == 'EMA':\n",
    "        bt = Backtest(hist,EmaCross,cash=10000)\n",
    "    elif ma == 'DEMA':\n",
    "        bt = Backtest(hist,DemaCross,cash=10000)\n",
    "    \n",
    "    data, heat = bt.optimize('Sharpe Ratio',n1=range(2,50,2),n2=range(2,50,2),constraint=lambda p: p.n1<p.n2,return_heatmap=True)\n",
    "\n",
    "    heat.sort_values()\n",
    "    hmap = heat.groupby(['n1','n2']).mean().unstack()\n",
    "    hmap\n",
    "\n",
    "    heat_pic = sns.heatmap(hmap, cmap='Spectral')\n",
    "    \n",
    "    tr = hmap.stack()\n",
    "\n",
    "    n1 = [i[0] for i in tr.index]\n",
    "    n2 = [i[1] for i in tr.index]\n",
    "\n",
    "    val = []\n",
    "    for (i,j) in zip(n1,n2):\n",
    "        if i<j:\n",
    "            val.append(tr.loc[i,j])\n",
    "\n",
    "    px, py = np.meshgrid(np.linspace(np.min(n1),np.max(n1),100),np.linspace(np.min(n2),np.max(n2),100))\n",
    "    pz = interp.griddata((n1,n2),val,(px,py),method='cubic')\n",
    "\n",
    "    fig = plt.figure()\n",
    "    ax = fig.gca(projection='3d')\n",
    "    surf = ax.plot_surface(px,py,pz,cmap=cm.coolwarm)\n",
    "    fig.colorbar(surf, shrink=0.5, aspect=5)\n",
    "    plt.show()\n",
    "    \n",
    "    return data"
   ]
  },
  {
   "cell_type": "markdown",
   "metadata": {},
   "source": [
    "# 1 Year SMA"
   ]
  },
  {
   "cell_type": "code",
   "execution_count": 13,
   "metadata": {},
   "outputs": [
    {
     "name": "stderr",
     "output_type": "stream",
     "text": [
      "C:\\Users\\antho\\Anaconda3\\lib\\site-packages\\ipykernel_launcher.py:2: UserWarning: Searching best of 1176 configurations.\n",
      "  \n"
     ]
    },
    {
     "data": {
      "application/vnd.jupyter.widget-view+json": {
       "model_id": "",
       "version_major": 2,
       "version_minor": 0
      },
      "text/plain": [
       "HBox(children=(IntProgress(value=0, max=1176), HTML(value='')))"
      ]
     },
     "metadata": {},
     "output_type": "display_data"
    },
    {
     "name": "stdout",
     "output_type": "stream",
     "text": [
      "\r"
     ]
    }
   ],
   "source": [
    "bt = Backtest(yr1,SmaCross,cash=10000)\n",
    "data, heat = bt.optimize('Sharpe Ratio',n1=range(1,50),n2=range(1,50),constraint=lambda p: p.n1<p.n2,return_heatmap=True)"
   ]
  },
  {
   "cell_type": "code",
   "execution_count": 15,
   "metadata": {},
   "outputs": [
    {
     "data": {
      "text/plain": [
       "Start                      2018-12-12 00:00:00\n",
       "End                        2019-12-12 00:00:00\n",
       "Duration                     365 days 00:00:00\n",
       "Exposure [%]                           74.5205\n",
       "Equity Final [$]                       11509.1\n",
       "Equity Peak [$]                        11571.4\n",
       "Return [%]                             15.0914\n",
       "Buy & Hold Return [%]                  19.5204\n",
       "Max. Drawdown [%]                     -4.10948\n",
       "Avg. Drawdown [%]                     -1.44494\n",
       "Max. Drawdown Duration        49 days 00:00:00\n",
       "Avg. Drawdown Duration        12 days 00:00:00\n",
       "# Trades                                    11\n",
       "Win Rate [%]                           72.7273\n",
       "Best Trade [%]                         4.64204\n",
       "Worst Trade [%]                       -2.08019\n",
       "Avg. Trade [%]                         1.15575\n",
       "Max. Trade Duration           55 days 00:00:00\n",
       "Avg. Trade Duration           25 days 00:00:00\n",
       "Expectancy [%]                         1.67201\n",
       "SQN                                    1.90377\n",
       "Sharpe Ratio                          0.574026\n",
       "Sortino Ratio                          1.16726\n",
       "Calmar Ratio                          0.281241\n",
       "_strategy                 SmaCross(n1=1,n2=21)\n",
       "dtype: object"
      ]
     },
     "execution_count": 15,
     "metadata": {},
     "output_type": "execute_result"
    }
   ],
   "source": [
    "data"
   ]
  },
  {
   "cell_type": "code",
   "execution_count": 94,
   "metadata": {},
   "outputs": [],
   "source": [
    "heat.index.names = [r'Short (days)',r'Long (days)']"
   ]
  },
  {
   "cell_type": "code",
   "execution_count": 102,
   "metadata": {},
   "outputs": [],
   "source": [
    "hh = heat*np.sqrt(12)"
   ]
  },
  {
   "cell_type": "code",
   "execution_count": 103,
   "metadata": {},
   "outputs": [
    {
     "data": {
      "image/png": "[encoded data removed]",
      "text/plain": [
       "<Figure size 432x288 with 2 Axes>"
      ]
     },
     "metadata": {
      "needs_background": "light"
     },
     "output_type": "display_data"
    }
   ],
   "source": [
    "hh.sort_values()\n",
    "hmap_sma = hh.groupby([r'Short (days)',r'Long (days)']).mean().unstack()\n",
    "ax = sns.heatmap(hmap_sma,cmap='RdYlGn',xticklabels=list(range(0,50)),yticklabels=list(range(0,50)))\n",
    "ax.set_xticks(ax.get_xticks()[::5])\n",
    "ax.set_xticklabels(list(range(0,50))[::5])\n",
    "ax.set_yticks(ax.get_yticks()[::5])\n",
    "ax.set_yticklabels(list(range(0,50))[::5])\n",
    "fig = ax.get_figure()"
   ]
  },
  {
   "cell_type": "code",
   "execution_count": 105,
   "metadata": {},
   "outputs": [],
   "source": [
    "fig.tight_layout()\n",
    "fig.savefig('sp_sma1_hmap.png')"
   ]
  },
  {
   "cell_type": "code",
   "execution_count": 15,
   "metadata": {},
   "outputs": [
    {
     "name": "stderr",
     "output_type": "stream",
     "text": [
      "C:\\Users\\antho\\Anaconda3\\lib\\site-packages\\pandas\\core\\indexing.py:205: SettingWithCopyWarning: \n",
      "A value is trying to be set on a copy of a slice from a DataFrame\n",
      "\n",
      "See the caveats in the documentation: http://pandas.pydata.org/pandas-docs/stable/user_guide/indexing.html#returning-a-view-versus-a-copy\n",
      "  self._setitem_with_indexer(indexer, value)\n"
     ]
    }
   ],
   "source": [
    "rr = bt.run()._trade_data\n",
    "rr['P/L'].iloc[0] = 0\n",
    "rr['P/L'] = rr['P/L'].interpolate(method='time')"
   ]
  },
  {
   "cell_type": "code",
   "execution_count": 100,
   "metadata": {},
   "outputs": [
    {
     "data": {
      "image/png": "[encoded data removed]",
      "text/plain": [
       "<Figure size 432x288 with 1 Axes>"
      ]
     },
     "metadata": {
      "needs_background": "light"
     },
     "output_type": "display_data"
    }
   ],
   "source": [
    "plt.xlabel('Date')\n",
    "plt.ylabel(r'Equity (USD)')\n",
    "fig = rr['Equity'].plot().get_figure()\n",
    "fig.tight_layout()\n",
    "fig.savefig('sp_sma1_equity.png')"
   ]
  },
  {
   "cell_type": "code",
   "execution_count": 62,
   "metadata": {},
   "outputs": [],
   "source": [
    "class SmaCross_alt(Strategy):\n",
    "    \n",
    "    n1 = 40\n",
    "    n2 = 43\n",
    "    \n",
    "    def init(self):\n",
    "        # Precompute two moving averages\n",
    "        self.sma1 = self.I(SMA, self.data.Close, self.n1)\n",
    "        self.sma2 = self.I(SMA, self.data.Close, self.n2)\n",
    "    \n",
    "    def next(self):\n",
    "        # If sma1 crosses above sma2, buy the asset\n",
    "        if crossover(self.sma1, self.sma2):\n",
    "            self.buy()\n",
    "\n",
    "        # Else, if sma1 crosses below sma2, sell it\n",
    "        elif crossover(self.sma2, self.sma1):\n",
    "            self.sell()"
   ]
  },
  {
   "cell_type": "code",
   "execution_count": 63,
   "metadata": {},
   "outputs": [
    {
     "name": "stderr",
     "output_type": "stream",
     "text": [
      "C:\\Users\\antho\\Anaconda3\\lib\\site-packages\\pandas\\core\\indexing.py:205: SettingWithCopyWarning: \n",
      "A value is trying to be set on a copy of a slice from a DataFrame\n",
      "\n",
      "See the caveats in the documentation: http://pandas.pydata.org/pandas-docs/stable/user_guide/indexing.html#returning-a-view-versus-a-copy\n",
      "  self._setitem_with_indexer(indexer, value)\n"
     ]
    }
   ],
   "source": [
    "alt_max = Backtest(yr1,SmaCross_alt,cash=10000).run()._trade_data\n",
    "alt_max['P/L'].iloc[0] = 0\n",
    "alt_max['P/L'] = alt_max['P/L'].interpolate(method='time')"
   ]
  },
  {
   "cell_type": "code",
   "execution_count": 16,
   "metadata": {},
   "outputs": [
    {
     "data": {
      "image/png": "[encoded data removed]",
      "text/plain": [
       "<Figure size 432x288 with 1 Axes>"
      ]
     },
     "metadata": {
      "needs_background": "light"
     },
     "output_type": "display_data"
    }
   ],
   "source": [
    "plt.xlabel('Date')\n",
    "plt.ylabel(r'PnL (USD)')\n",
    "fig = rr['P/L'].plot().get_figure()\n",
    "fig.tight_layout()\n",
    "fig.savefig('sp_sma1_pl.png')"
   ]
  },
  {
   "cell_type": "markdown",
   "metadata": {},
   "source": [
    "# 1 Year EMA"
   ]
  },
  {
   "cell_type": "code",
   "execution_count": 149,
   "metadata": {},
   "outputs": [
    {
     "name": "stderr",
     "output_type": "stream",
     "text": [
      "C:\\Users\\antho\\Anaconda3\\lib\\site-packages\\ipykernel_launcher.py:2: UserWarning: Searching best of 1176 configurations.\n",
      "  \n"
     ]
    },
    {
     "data": {
      "application/vnd.jupyter.widget-view+json": {
       "model_id": "",
       "version_major": 2,
       "version_minor": 0
      },
      "text/plain": [
       "HBox(children=(IntProgress(value=0, max=1176), HTML(value='')))"
      ]
     },
     "metadata": {},
     "output_type": "display_data"
    },
    {
     "name": "stdout",
     "output_type": "stream",
     "text": [
      "\r"
     ]
    }
   ],
   "source": [
    "ema1 = Backtest(yr1,EmaCross,cash=10000)\n",
    "d_ema1, heat_ema1 = ema1.optimize('Sharpe Ratio',n1=range(1,50),n2=range(1,50),constraint=lambda p: p.n1<p.n2,return_heatmap=True)"
   ]
  },
  {
   "cell_type": "code",
   "execution_count": 150,
   "metadata": {},
   "outputs": [
    {
     "data": {
      "text/plain": [
       "Start                      2018-12-12 00:00:00\n",
       "End                        2019-12-12 00:00:00\n",
       "Duration                     365 days 00:00:00\n",
       "Exposure [%]                           76.1644\n",
       "Equity Final [$]                         12175\n",
       "Equity Peak [$]                          12175\n",
       "Return [%]                             21.7504\n",
       "Buy & Hold Return [%]                  19.5204\n",
       "Max. Drawdown [%]                     -4.88741\n",
       "Avg. Drawdown [%]                     -1.31528\n",
       "Max. Drawdown Duration        63 days 00:00:00\n",
       "Avg. Drawdown Duration        13 days 00:00:00\n",
       "# Trades                                     8\n",
       "Win Rate [%]                                75\n",
       "Best Trade [%]                         6.48405\n",
       "Worst Trade [%]                       -1.46501\n",
       "Avg. Trade [%]                          1.6676\n",
       "Max. Trade Duration           61 days 00:00:00\n",
       "Avg. Trade Duration           35 days 00:00:00\n",
       "Expectancy [%]                         2.08785\n",
       "SQN                                     1.9738\n",
       "Sharpe Ratio                             0.678\n",
       "Sortino Ratio                          1.88814\n",
       "Calmar Ratio                          0.341203\n",
       "_strategy                 EmaCross(n1=3,n2=19)\n",
       "dtype: object"
      ]
     },
     "execution_count": 150,
     "metadata": {},
     "output_type": "execute_result"
    }
   ],
   "source": [
    "d_ema1"
   ]
  },
  {
   "cell_type": "code",
   "execution_count": 153,
   "metadata": {},
   "outputs": [],
   "source": [
    "heat_ema1.index.names = [r'Short (days)',r'Long (days)']\n",
    "hh_ema = heat_ema1*np.sqrt(12)"
   ]
  },
  {
   "cell_type": "code",
   "execution_count": 154,
   "metadata": {},
   "outputs": [
    {
     "data": {
      "image/png": "[encoded data removed]",
      "text/plain": [
       "<Figure size 432x288 with 2 Axes>"
      ]
     },
     "metadata": {
      "needs_background": "light"
     },
     "output_type": "display_data"
    }
   ],
   "source": [
    "hh_ema.sort_values()\n",
    "hmap_ema = hh_ema.groupby([r'Short (days)',r'Long (days)']).mean().unstack()\n",
    "ax = sns.heatmap(hmap_ema,cmap='RdYlGn',xticklabels=list(range(0,50)),yticklabels=list(range(0,50)))\n",
    "ax.set_xticks(ax.get_xticks()[::5])\n",
    "ax.set_xticklabels(list(range(0,50))[::5])\n",
    "ax.set_yticks(ax.get_yticks()[::5])\n",
    "ax.set_yticklabels(list(range(0,50))[::5])\n",
    "fig = ax.get_figure()"
   ]
  },
  {
   "cell_type": "code",
   "execution_count": 155,
   "metadata": {},
   "outputs": [],
   "source": [
    "fig.tight_layout()\n",
    "fig.savefig('sp_ema1_hmap.png')"
   ]
  },
  {
   "cell_type": "markdown",
   "metadata": {},
   "source": [
    "# 1 Year DEMA"
   ]
  },
  {
   "cell_type": "code",
   "execution_count": 151,
   "metadata": {},
   "outputs": [
    {
     "name": "stderr",
     "output_type": "stream",
     "text": [
      "C:\\Users\\antho\\Anaconda3\\lib\\site-packages\\ipykernel_launcher.py:2: UserWarning: Searching best of 1176 configurations.\n",
      "  \n"
     ]
    },
    {
     "data": {
      "application/vnd.jupyter.widget-view+json": {
       "model_id": "",
       "version_major": 2,
       "version_minor": 0
      },
      "text/plain": [
       "HBox(children=(IntProgress(value=0, max=1176), HTML(value='')))"
      ]
     },
     "metadata": {},
     "output_type": "display_data"
    },
    {
     "name": "stdout",
     "output_type": "stream",
     "text": [
      "\r"
     ]
    }
   ],
   "source": [
    "dema1 = Backtest(yr1,DemaCross,cash=10000)\n",
    "d_dema1, heat_dema1 = dema1.optimize('Sharpe Ratio',n1=range(1,50),n2=range(1,50),constraint=lambda p: p.n1<p.n2,return_heatmap=True)"
   ]
  },
  {
   "cell_type": "code",
   "execution_count": 152,
   "metadata": {},
   "outputs": [
    {
     "data": {
      "text/plain": [
       "Start                        2018-12-12 00:00:00\n",
       "End                          2019-12-12 00:00:00\n",
       "Duration                       365 days 00:00:00\n",
       "Exposure [%]                              90.137\n",
       "Equity Final [$]                         11761.8\n",
       "Equity Peak [$]                          12207.8\n",
       "Return [%]                               17.6183\n",
       "Buy & Hold Return [%]                    19.5204\n",
       "Max. Drawdown [%]                       -5.88911\n",
       "Avg. Drawdown [%]                       -1.84022\n",
       "Max. Drawdown Duration          66 days 00:00:00\n",
       "Avg. Drawdown Duration          17 days 00:00:00\n",
       "# Trades                                       9\n",
       "Win Rate [%]                             77.7778\n",
       "Best Trade [%]                           8.13436\n",
       "Worst Trade [%]                         -2.98032\n",
       "Avg. Trade [%]                           2.10524\n",
       "Max. Trade Duration             56 days 00:00:00\n",
       "Avg. Trade Duration             37 days 00:00:00\n",
       "Expectancy [%]                           2.89292\n",
       "SQN                                      2.09962\n",
       "Sharpe Ratio                            0.686007\n",
       "Sortino Ratio                            1.23226\n",
       "Calmar Ratio                             0.35748\n",
       "_strategy                 DemaCross(n1=14,n2=24)\n",
       "dtype: object"
      ]
     },
     "execution_count": 152,
     "metadata": {},
     "output_type": "execute_result"
    }
   ],
   "source": [
    "d_dema1"
   ]
  },
  {
   "cell_type": "code",
   "execution_count": 156,
   "metadata": {},
   "outputs": [],
   "source": [
    "heat_dema1.index.names = [r'Short (days)',r'Long (days)']\n",
    "hh_dema = heat_dema1*np.sqrt(12)"
   ]
  },
  {
   "cell_type": "code",
   "execution_count": 157,
   "metadata": {},
   "outputs": [
    {
     "data": {
      "image/png": "[encoded data removed]",
      "text/plain": [
       "<Figure size 432x288 with 2 Axes>"
      ]
     },
     "metadata": {
      "needs_background": "light"
     },
     "output_type": "display_data"
    }
   ],
   "source": [
    "hh_dema.sort_values()\n",
    "hmap_dema = hh_dema.groupby([r'Short (days)',r'Long (days)']).mean().unstack()\n",
    "ax = sns.heatmap(hmap_dema,cmap='RdYlGn',xticklabels=list(range(0,50)),yticklabels=list(range(0,50)))\n",
    "ax.set_xticks(ax.get_xticks()[::5])\n",
    "ax.set_xticklabels(list(range(0,50))[::5])\n",
    "ax.set_yticks(ax.get_yticks()[::5])\n",
    "ax.set_yticklabels(list(range(0,50))[::5])\n",
    "fig = ax.get_figure()"
   ]
  },
  {
   "cell_type": "code",
   "execution_count": 158,
   "metadata": {},
   "outputs": [],
   "source": [
    "fig.tight_layout()\n",
    "fig.savefig('sp_dema1_hmap.png')"
   ]
  },
  {
   "cell_type": "markdown",
   "metadata": {},
   "source": [
    "# 2 Year SMA"
   ]
  },
  {
   "cell_type": "code",
   "execution_count": 106,
   "metadata": {},
   "outputs": [
    {
     "name": "stderr",
     "output_type": "stream",
     "text": [
      "C:\\Users\\antho\\Anaconda3\\lib\\site-packages\\ipykernel_launcher.py:2: UserWarning: Searching best of 1176 configurations.\n",
      "  \n"
     ]
    },
    {
     "data": {
      "application/vnd.jupyter.widget-view+json": {
       "model_id": "",
       "version_major": 2,
       "version_minor": 0
      },
      "text/plain": [
       "HBox(children=(IntProgress(value=0, max=1176), HTML(value='')))"
      ]
     },
     "metadata": {},
     "output_type": "display_data"
    },
    {
     "name": "stdout",
     "output_type": "stream",
     "text": [
      "\r"
     ]
    }
   ],
   "source": [
    "sma2 = Backtest(yr2,SmaCross,cash=10000)\n",
    "d_sma2, h_sma2 = sma2.optimize('Sharpe Ratio',n1=range(1,50),n2=range(1,50),constraint=lambda p: p.n1<p.n2,return_heatmap=True)"
   ]
  },
  {
   "cell_type": "markdown",
   "metadata": {},
   "source": [
    "# 2 Year EMA"
   ]
  },
  {
   "cell_type": "code",
   "execution_count": 107,
   "metadata": {},
   "outputs": [
    {
     "name": "stderr",
     "output_type": "stream",
     "text": [
      "C:\\Users\\antho\\Anaconda3\\lib\\site-packages\\ipykernel_launcher.py:2: UserWarning: Searching best of 1176 configurations.\n",
      "  \n"
     ]
    },
    {
     "data": {
      "application/vnd.jupyter.widget-view+json": {
       "model_id": "",
       "version_major": 2,
       "version_minor": 0
      },
      "text/plain": [
       "HBox(children=(IntProgress(value=0, max=1176), HTML(value='')))"
      ]
     },
     "metadata": {},
     "output_type": "display_data"
    },
    {
     "name": "stdout",
     "output_type": "stream",
     "text": [
      "\r"
     ]
    }
   ],
   "source": [
    "ema2 = Backtest(yr2,EmaCross,cash=10000)\n",
    "d_ema2, h_ema2 = ema2.optimize('Sharpe Ratio',n1=range(1,50),n2=range(1,50),constraint=lambda p: p.n1<p.n2,return_heatmap=True)"
   ]
  },
  {
   "cell_type": "markdown",
   "metadata": {},
   "source": [
    "# 2 Year DEMA"
   ]
  },
  {
   "cell_type": "code",
   "execution_count": 108,
   "metadata": {},
   "outputs": [
    {
     "name": "stderr",
     "output_type": "stream",
     "text": [
      "C:\\Users\\antho\\Anaconda3\\lib\\site-packages\\ipykernel_launcher.py:2: UserWarning: Searching best of 1176 configurations.\n",
      "  \n"
     ]
    },
    {
     "data": {
      "application/vnd.jupyter.widget-view+json": {
       "model_id": "",
       "version_major": 2,
       "version_minor": 0
      },
      "text/plain": [
       "HBox(children=(IntProgress(value=0, max=1176), HTML(value='')))"
      ]
     },
     "metadata": {},
     "output_type": "display_data"
    },
    {
     "name": "stdout",
     "output_type": "stream",
     "text": [
      "\r"
     ]
    }
   ],
   "source": [
    "dema2 = Backtest(yr2,DemaCross,cash=10000)\n",
    "d_dema2, h_dema2 = dema2.optimize('Sharpe Ratio',n1=range(1,50),n2=range(1,50),constraint=lambda p: p.n1<p.n2,return_heatmap=True)"
   ]
  },
  {
   "cell_type": "markdown",
   "metadata": {},
   "source": [
    "# 4 Year SMA"
   ]
  },
  {
   "cell_type": "code",
   "execution_count": 109,
   "metadata": {},
   "outputs": [
    {
     "name": "stderr",
     "output_type": "stream",
     "text": [
      "C:\\Users\\antho\\Anaconda3\\lib\\site-packages\\ipykernel_launcher.py:2: UserWarning: Searching best of 1176 configurations.\n",
      "  \n"
     ]
    },
    {
     "data": {
      "application/vnd.jupyter.widget-view+json": {
       "model_id": "",
       "version_major": 2,
       "version_minor": 0
      },
      "text/plain": [
       "HBox(children=(IntProgress(value=0, max=1176), HTML(value='')))"
      ]
     },
     "metadata": {},
     "output_type": "display_data"
    },
    {
     "name": "stdout",
     "output_type": "stream",
     "text": [
      "\r"
     ]
    }
   ],
   "source": [
    "sma4 = Backtest(yr4,SmaCross,cash=10000)\n",
    "d_sma4, h_sma4 = sma4.optimize('Sharpe Ratio',n1=range(1,50),n2=range(1,50),constraint=lambda p: p.n1<p.n2,return_heatmap=True)"
   ]
  },
  {
   "cell_type": "markdown",
   "metadata": {},
   "source": [
    "# 4 Year EMA"
   ]
  },
  {
   "cell_type": "code",
   "execution_count": 110,
   "metadata": {},
   "outputs": [
    {
     "name": "stderr",
     "output_type": "stream",
     "text": [
      "C:\\Users\\antho\\Anaconda3\\lib\\site-packages\\ipykernel_launcher.py:2: UserWarning: Searching best of 1176 configurations.\n",
      "  \n"
     ]
    },
    {
     "data": {
      "application/vnd.jupyter.widget-view+json": {
       "model_id": "",
       "version_major": 2,
       "version_minor": 0
      },
      "text/plain": [
       "HBox(children=(IntProgress(value=0, max=1176), HTML(value='')))"
      ]
     },
     "metadata": {},
     "output_type": "display_data"
    },
    {
     "name": "stdout",
     "output_type": "stream",
     "text": [
      "\r"
     ]
    }
   ],
   "source": [
    "ema4 = Backtest(yr4,EmaCross,cash=10000)\n",
    "d_ema4, h_ema4 = ema4.optimize('Sharpe Ratio',n1=range(1,50),n2=range(1,50),constraint=lambda p: p.n1<p.n2,return_heatmap=True)"
   ]
  },
  {
   "cell_type": "markdown",
   "metadata": {},
   "source": [
    "# 4 Year DEMA"
   ]
  },
  {
   "cell_type": "code",
   "execution_count": 111,
   "metadata": {},
   "outputs": [
    {
     "name": "stderr",
     "output_type": "stream",
     "text": [
      "C:\\Users\\antho\\Anaconda3\\lib\\site-packages\\ipykernel_launcher.py:2: UserWarning: Searching best of 1176 configurations.\n",
      "  \n"
     ]
    },
    {
     "data": {
      "application/vnd.jupyter.widget-view+json": {
       "model_id": "",
       "version_major": 2,
       "version_minor": 0
      },
      "text/plain": [
       "HBox(children=(IntProgress(value=0, max=1176), HTML(value='')))"
      ]
     },
     "metadata": {},
     "output_type": "display_data"
    },
    {
     "name": "stdout",
     "output_type": "stream",
     "text": [
      "\r"
     ]
    }
   ],
   "source": [
    "dema4 = Backtest(yr4,DemaCross,cash=10000)\n",
    "d_dema4, h_dema4 = dema4.optimize('Sharpe Ratio',n1=range(1,50),n2=range(1,50),constraint=lambda p: p.n1<p.n2,return_heatmap=True)"
   ]
  },
  {
   "cell_type": "markdown",
   "metadata": {},
   "source": [
    "# Whole Dataset"
   ]
  },
  {
   "cell_type": "code",
   "execution_count": 112,
   "metadata": {},
   "outputs": [
    {
     "name": "stderr",
     "output_type": "stream",
     "text": [
      "C:\\Users\\antho\\Anaconda3\\lib\\site-packages\\ipykernel_launcher.py:2: UserWarning: Searching best of 1176 configurations.\n",
      "  \n"
     ]
    },
    {
     "data": {
      "application/vnd.jupyter.widget-view+json": {
       "model_id": "",
       "version_major": 2,
       "version_minor": 0
      },
      "text/plain": [
       "HBox(children=(IntProgress(value=0, max=1176), HTML(value='')))"
      ]
     },
     "metadata": {},
     "output_type": "display_data"
    },
    {
     "name": "stdout",
     "output_type": "stream",
     "text": [
      "\r"
     ]
    }
   ],
   "source": [
    "smaw = Backtest(ohlc,SmaCross,cash=10000)\n",
    "d_smaw, h_smaw = smaw.optimize('Sharpe Ratio',n1=range(1,50),n2=range(1,50),constraint=lambda p: p.n1<p.n2,return_heatmap=True)"
   ]
  },
  {
   "cell_type": "code",
   "execution_count": 113,
   "metadata": {},
   "outputs": [
    {
     "name": "stderr",
     "output_type": "stream",
     "text": [
      "C:\\Users\\antho\\Anaconda3\\lib\\site-packages\\ipykernel_launcher.py:2: UserWarning: Searching best of 1176 configurations.\n",
      "  \n"
     ]
    },
    {
     "data": {
      "application/vnd.jupyter.widget-view+json": {
       "model_id": "",
       "version_major": 2,
       "version_minor": 0
      },
      "text/plain": [
       "HBox(children=(IntProgress(value=0, max=1176), HTML(value='')))"
      ]
     },
     "metadata": {},
     "output_type": "display_data"
    },
    {
     "name": "stdout",
     "output_type": "stream",
     "text": [
      "\r"
     ]
    }
   ],
   "source": [
    "emaw = Backtest(ohlc,EmaCross,cash=10000)\n",
    "d_emaw, h_emaw = emaw.optimize('Sharpe Ratio',n1=range(1,50),n2=range(1,50),constraint=lambda p: p.n1<p.n2,return_heatmap=True)"
   ]
  },
  {
   "cell_type": "code",
   "execution_count": 114,
   "metadata": {},
   "outputs": [
    {
     "name": "stderr",
     "output_type": "stream",
     "text": [
      "C:\\Users\\antho\\Anaconda3\\lib\\site-packages\\ipykernel_launcher.py:2: UserWarning: Searching best of 1176 configurations.\n",
      "  \n"
     ]
    },
    {
     "data": {
      "application/vnd.jupyter.widget-view+json": {
       "model_id": "",
       "version_major": 2,
       "version_minor": 0
      },
      "text/plain": [
       "HBox(children=(IntProgress(value=0, max=1176), HTML(value='')))"
      ]
     },
     "metadata": {},
     "output_type": "display_data"
    },
    {
     "name": "stdout",
     "output_type": "stream",
     "text": [
      "\r"
     ]
    }
   ],
   "source": [
    "demaw = Backtest(ohlc,DemaCross,cash=10000)\n",
    "d_demaw, h_demaw = demaw.optimize('Sharpe Ratio',n1=range(1,50),n2=range(1,50),constraint=lambda p: p.n1<p.n2,return_heatmap=True)"
   ]
  },
  {
   "cell_type": "code",
   "execution_count": 117,
   "metadata": {},
   "outputs": [
    {
     "data": {
      "text/plain": [
       "Start                       2011-09-12 00:00:00\n",
       "End                         2019-12-12 00:00:00\n",
       "Duration                     3013 days 00:00:00\n",
       "Exposure [%]                            96.1832\n",
       "Equity Final [$]                        14965.4\n",
       "Equity Peak [$]                         16512.8\n",
       "Return [%]                               49.654\n",
       "Buy & Hold Return [%]                   172.619\n",
       "Max. Drawdown [%]                      -20.1087\n",
       "Avg. Drawdown [%]                      -2.30397\n",
       "Max. Drawdown Duration       1167 days 00:00:00\n",
       "Avg. Drawdown Duration         52 days 00:00:00\n",
       "# Trades                                     25\n",
       "Win Rate [%]                                 44\n",
       "Best Trade [%]                          32.8437\n",
       "Worst Trade [%]                        -6.51226\n",
       "Avg. Trade [%]                          1.70828\n",
       "Max. Trade Duration           664 days 00:00:00\n",
       "Avg. Trade Duration           116 days 00:00:00\n",
       "Expectancy [%]                          5.11367\n",
       "SQN                                    0.884698\n",
       "Sharpe Ratio                           0.196125\n",
       "Sortino Ratio                            1.0683\n",
       "Calmar Ratio                          0.0849526\n",
       "_strategy                 EmaCross(n1=27,n2=49)\n",
       "dtype: object"
      ]
     },
     "execution_count": 117,
     "metadata": {},
     "output_type": "execute_result"
    }
   ],
   "source": [
    "d_emaw"
   ]
  },
  {
   "cell_type": "code",
   "execution_count": 147,
   "metadata": {},
   "outputs": [
    {
     "data": {
      "text/plain": [
       "Start                        2011-09-12 00:00:00\n",
       "End                          2019-12-12 00:00:00\n",
       "Duration                      3013 days 00:00:00\n",
       "Exposure [%]                             99.2698\n",
       "Equity Final [$]                         10375.1\n",
       "Equity Peak [$]                          11631.6\n",
       "Return [%]                               3.75085\n",
       "Buy & Hold Return [%]                    172.619\n",
       "Max. Drawdown [%]                       -22.6104\n",
       "Avg. Drawdown [%]                       -3.81429\n",
       "Max. Drawdown Duration        2481 days 00:00:00\n",
       "Avg. Drawdown Duration         199 days 00:00:00\n",
       "# Trades                                     122\n",
       "Win Rate [%]                             36.0656\n",
       "Best Trade [%]                           8.18206\n",
       "Worst Trade [%]                         -5.33635\n",
       "Avg. Trade [%]                         0.0787083\n",
       "Max. Trade Duration             84 days 00:00:00\n",
       "Avg. Trade Duration             25 days 00:00:00\n",
       "Expectancy [%]                           2.06948\n",
       "SQN                                     0.194831\n",
       "Sharpe Ratio                           0.0282968\n",
       "Sortino Ratio                          0.0598067\n",
       "Calmar Ratio                          0.00348106\n",
       "_strategy                 DemaCross(n1=17,n2=22)\n",
       "dtype: object"
      ]
     },
     "execution_count": 147,
     "metadata": {},
     "output_type": "execute_result"
    }
   ],
   "source": [
    "d_demaw"
   ]
  },
  {
   "cell_type": "code",
   "execution_count": 148,
   "metadata": {},
   "outputs": [
    {
     "data": {
      "text/plain": [
       "0.09802299058323001"
      ]
     },
     "execution_count": 148,
     "metadata": {},
     "output_type": "execute_result"
    }
   ],
   "source": [
    "0.0282968*np.sqrt(12)"
   ]
  }
 ],
 "metadata": {
  "kernelspec": {
   "display_name": "Python 3",
   "language": "python",
   "name": "python3"
  },
  "language_info": {
   "codemirror_mode": {
    "name": "ipython",
    "version": 3
   },
   "file_extension": ".py",
   "mimetype": "text/x-python",
   "name": "python",
   "nbconvert_exporter": "python",
   "pygments_lexer": "ipython3",
   "version": "3.7.4"
  }
 },
 "nbformat": 4,
 "nbformat_minor": 2
}
